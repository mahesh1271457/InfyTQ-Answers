{
  "nbformat": 4,
  "nbformat_minor": 0,
  "metadata": {
    "colab": {
      "name": "Infytq train.ipynb",
      "provenance": [],
      "collapsed_sections": [
        "Ok6x4SnzQ2tp",
        "NL-TU2eYRQPV",
        "lvEOj0MOQo1s",
        "V-09JuIJQtVK",
        "fY1XnjZ3LWRD",
        "42LndHSVYP0b",
        "YDBMQRIJqNbz",
        "fBN77vU80Lff",
        "QUxelJIv5js8"
      ],
      "toc_visible": true
    },
    "kernelspec": {
      "name": "python3",
      "display_name": "Python 3"
    }
  },
  "cells": [
    {
      "cell_type": "markdown",
      "metadata": {
        "id": "Ok6x4SnzQ2tp"
      },
      "source": [
        "#Day 1"
      ]
    },
    {
      "cell_type": "code",
      "metadata": {
        "id": "azl_s2Vb4GUA"
      },
      "source": [
        "#1st\r\n",
        "a,b,c=map(int,input().split())\r\n",
        "if (a==b and b==c):\r\n",
        "  print(\"Equilateral\")\r\n",
        "elif (a==b or b==c or c==a):\r\n",
        "  print(\"Isosceles\")\r\n",
        "else:\r\n",
        "  print(\"Scalene\")"
      ],
      "execution_count": null,
      "outputs": []
    },
    {
      "cell_type": "code",
      "metadata": {
        "id": "Vh9bK__q5YwM"
      },
      "source": [
        "#2nd\r\n",
        "a,b=map(int,input().split())\r\n",
        "z=a+b\r\n",
        "if z>=15 and z<=20:\r\n",
        "  print(\"20\")\r\n",
        "else:\r\n",
        "  print(z)"
      ],
      "execution_count": null,
      "outputs": []
    },
    {
      "cell_type": "code",
      "metadata": {
        "id": "z6eo8zpm6TRX"
      },
      "source": [
        "#3rd\r\n",
        "x=input()\r\n",
        "if x=='a' or x=='e' or x=='i' or x=='o' or x=='u':\r\n",
        "  print(x+\" is a Vowel\")\r\n",
        "else:\r\n",
        "  print(x+\" is not a Vowel\")"
      ],
      "execution_count": null,
      "outputs": []
    },
    {
      "cell_type": "code",
      "metadata": {
        "id": "Rkdxtafn7jgn"
      },
      "source": [
        "#4th\r\n",
        "m=input()\r\n",
        "m=m.title()\r\n",
        "l1=['January','March','May','July','August','October','December']\r\n",
        "if m in l1:\r\n",
        "  print(\"No.of days: 31 days\")\r\n",
        "elif m=='Feburary':\r\n",
        "  print(\"No.of days: 28 days\")\r\n",
        "else:\r\n",
        "  print(\"No.of days: 30days\")"
      ],
      "execution_count": null,
      "outputs": []
    },
    {
      "cell_type": "code",
      "metadata": {
        "id": "Wk-GPyLs80GH"
      },
      "source": [
        "#5th\r\n",
        "#5,3,19,13,41,31,71,57\r\n",
        "n=int(input())\r\n",
        "if n%2!=0:\r\n",
        "  print(((n+1)**2)+n)\r\n",
        "else:\r\n",
        "  print(((n-1)**2)+n)"
      ],
      "execution_count": null,
      "outputs": []
    },
    {
      "cell_type": "code",
      "metadata": {
        "id": "165khTjs-RWW"
      },
      "source": [
        "#6th\r\n",
        "a,b,c=map(int,input().split())\r\n",
        "r=(a if a>c else c) if (a>b) else (b if b>c else c)\r\n",
        "print(r)"
      ],
      "execution_count": null,
      "outputs": []
    },
    {
      "cell_type": "code",
      "metadata": {
        "id": "xQRxM0xdBUB3"
      },
      "source": [
        "#7th\r\n",
        "\"\"\" Divisible by 4, Centuary is not a leap year, but centuary divisible by 400 is a leap year\"\"\"\r\n",
        "y=int(input())\r\n",
        "print(\"Leap Year\") if ((y%4==0 and y%100!=0) or y%400==0) else print(\"Not a Leap Year\")"
      ],
      "execution_count": null,
      "outputs": []
    },
    {
      "cell_type": "code",
      "metadata": {
        "id": "yTbzJDrICKhe"
      },
      "source": [
        "#8th\r\n",
        "n=int(input())\r\n",
        "if n in range(1,101): #n>0 and n<101\r\n",
        "  print(\"In range 1 to 100\")\r\n",
        "else:\r\n",
        "  print(\"Not in range 1 to 100\")"
      ],
      "execution_count": null,
      "outputs": []
    },
    {
      "cell_type": "code",
      "metadata": {
        "id": "K7r2pUeQDrBF"
      },
      "source": [
        "#9th\r\n",
        "n=int(input())\r\n",
        "(print(\"Positive\") if n>0 else print(\"Zero\")) if n>=0 else print(\"Negative\")"
      ],
      "execution_count": null,
      "outputs": []
    },
    {
      "cell_type": "code",
      "metadata": {
        "id": "yUqwu3i0FAol"
      },
      "source": [
        "#10th\r\n",
        "import math \r\n",
        "a,b,c=map(int,input().split())\r\n",
        "s=(a+b+c)/2\r\n",
        "area=math.sqrt(s*(s-a)*(s-b)*(s-c))\r\n",
        "print(area)"
      ],
      "execution_count": null,
      "outputs": []
    },
    {
      "cell_type": "code",
      "metadata": {
        "id": "nhLRAj6TF3Gt"
      },
      "source": [
        "#11th\r\n",
        "l1=list(map(int,input().split()))\r\n",
        "p=1\r\n",
        "for i in l1:\r\n",
        "  if i!=7:\r\n",
        "    p=p*i\r\n",
        "  else:\r\n",
        "    p=1\r\n",
        "if p==1:\r\n",
        "  print(\"-1\")\r\n",
        "else:\r\n",
        "  print(p)"
      ],
      "execution_count": null,
      "outputs": []
    },
    {
      "cell_type": "code",
      "metadata": {
        "id": "LNTmGVnME4Lo"
      },
      "source": [
        ""
      ],
      "execution_count": null,
      "outputs": []
    },
    {
      "cell_type": "markdown",
      "metadata": {
        "id": "NL-TU2eYRQPV"
      },
      "source": [
        "#Day 2"
      ]
    },
    {
      "cell_type": "code",
      "metadata": {
        "colab": {
          "base_uri": "https://localhost:8080/"
        },
        "id": "D0pNvs4X-LmW",
        "outputId": "9f2f1c58-8319-4212-d156-0d8764b587aa"
      },
      "source": [
        "#factorial\r\n",
        "def fac(n):\r\n",
        "  if n==0 or n==1:\r\n",
        "    return 1\r\n",
        "  else:\r\n",
        "    return n*fac(n-1)\r\n",
        "print(fac(int(input())))"
      ],
      "execution_count": null,
      "outputs": [
        {
          "output_type": "stream",
          "text": [
            "30\n",
            "265252859812191058636308480000000\n"
          ],
          "name": "stdout"
        }
      ]
    },
    {
      "cell_type": "code",
      "metadata": {
        "colab": {
          "base_uri": "https://localhost:8080/"
        },
        "id": "jINZfM3I8cU3",
        "outputId": "3cf33ace-4b2f-4cb8-a128-f2777b43e43a"
      },
      "source": [
        "#sum of digits\r\n",
        "n=int(input())\r\n",
        "s=0\r\n",
        "while n!=0:\r\n",
        "  r=n%10\r\n",
        "  s=s+r\r\n",
        "  n=n//10\r\n",
        "print(s)"
      ],
      "execution_count": null,
      "outputs": [
        {
          "output_type": "stream",
          "text": [
            "1492\n",
            "16\n"
          ],
          "name": "stdout"
        }
      ]
    },
    {
      "cell_type": "code",
      "metadata": {
        "colab": {
          "base_uri": "https://localhost:8080/"
        },
        "id": "1ByuJ82I-Axn",
        "outputId": "90b03afd-90ee-44d1-a845-1c555682a255"
      },
      "source": [
        "#palindrome\r\n",
        "n=int(input())\r\n",
        "def pal(n):\r\n",
        "  s=0\r\n",
        "  m=n\r\n",
        "  while n!=0:\r\n",
        "    r=n%10\r\n",
        "    s=s*10+r\r\n",
        "    n=n//10\r\n",
        "  if (s==m):\r\n",
        "    print(\"Palindrome\")\r\n",
        "  else:\r\n",
        "    print(\"Not Palindrome\")\r\n",
        "pal(n)"
      ],
      "execution_count": null,
      "outputs": [
        {
          "output_type": "stream",
          "text": [
            "121\n",
            "Palindrome\n"
          ],
          "name": "stdout"
        }
      ]
    },
    {
      "cell_type": "code",
      "metadata": {
        "colab": {
          "base_uri": "https://localhost:8080/"
        },
        "id": "REzA9iHWBJMj",
        "outputId": "e0a2297d-e7f0-4f3f-d7de-a3a3658e73fd"
      },
      "source": [
        "#sum of factors\r\n",
        "n=int(input())\r\n",
        "def sf(n):\r\n",
        "  s=0\r\n",
        "  for i in range(1,n+1):\r\n",
        "    if (n%i==0):\r\n",
        "      s=s+i\r\n",
        "  print(\"Sum of factors = {0}\".format(s))\r\n",
        "sf(n)"
      ],
      "execution_count": null,
      "outputs": [
        {
          "output_type": "stream",
          "text": [
            "6\n",
            "Sum of factors = 12\n"
          ],
          "name": "stdout"
        }
      ]
    },
    {
      "cell_type": "code",
      "metadata": {
        "colab": {
          "base_uri": "https://localhost:8080/"
        },
        "id": "GqYTS7TKCneY",
        "outputId": "196d33dd-1b1f-43c0-ad92-e52f26c7fb59"
      },
      "source": [
        "#triangle\r\n",
        "n=int(input())\r\n",
        "def single(n):\r\n",
        "  a='*'\r\n",
        "  for i in range(1,n+1):\r\n",
        "    print(a*i) \r\n",
        "single(n)"
      ],
      "execution_count": null,
      "outputs": [
        {
          "output_type": "stream",
          "text": [
            "5\n",
            "*\n",
            "**\n",
            "***\n",
            "****\n",
            "*****\n"
          ],
          "name": "stdout"
        }
      ]
    },
    {
      "cell_type": "code",
      "metadata": {
        "colab": {
          "base_uri": "https://localhost:8080/"
        },
        "id": "j4gRqHJSDYX2",
        "outputId": "4a295c30-9fa5-4a53-9f3f-2616d3618d44"
      },
      "source": [
        "n=int(input())\r\n",
        "for i in range(1,n+1):\r\n",
        "  print(' '.join(map(str,list(range(1,i+1)))))"
      ],
      "execution_count": null,
      "outputs": [
        {
          "output_type": "stream",
          "text": [
            "5\n",
            "1\n",
            "1 2\n",
            "1 2 3\n",
            "1 2 3 4\n",
            "1 2 3 4 5\n"
          ],
          "name": "stdout"
        }
      ]
    },
    {
      "cell_type": "code",
      "metadata": {
        "colab": {
          "base_uri": "https://localhost:8080/"
        },
        "id": "T1SFfKozFKso",
        "outputId": "d172c2e7-23e2-4cbe-ab7f-befc93811dcb"
      },
      "source": [
        "n=int(input())\r\n",
        "for i in range(1,n+1):\r\n",
        "  print(' '.join(map(str,list(2**i for i in range(i,-1,-1)))))"
      ],
      "execution_count": null,
      "outputs": [
        {
          "output_type": "stream",
          "text": [
            "7\n",
            "2 1\n",
            "4 2 1\n",
            "8 4 2 1\n",
            "16 8 4 2 1\n",
            "32 16 8 4 2 1\n",
            "64 32 16 8 4 2 1\n",
            "128 64 32 16 8 4 2 1\n"
          ],
          "name": "stdout"
        }
      ]
    },
    {
      "cell_type": "markdown",
      "metadata": {
        "id": "lvEOj0MOQo1s"
      },
      "source": [
        "#Day 3"
      ]
    },
    {
      "cell_type": "code",
      "metadata": {
        "id": "mtgJs1_7J_WP",
        "colab": {
          "base_uri": "https://localhost:8080/"
        },
        "outputId": "4f3038cb-9f5c-46da-b6ec-98681d31aa61"
      },
      "source": [
        " '''\r\n",
        " n=int(input())\r\n",
        " x=1\r\n",
        " for i in range(0,n):\r\n",
        "   a=0\r\n",
        "   for j in range(0,2*i+1):\r\n",
        "     if (j%2==0):\r\n",
        "       print(x-a,end=\"\")\r\n",
        "       a=a+1\r\n",
        "     else:\r\n",
        "       print('*',end=\"\")\r\n",
        "   x=x+i+2\r\n",
        "   print()\r\n",
        "'''      \r\n",
        "n=int(input())\r\n",
        "x=0\r\n",
        "for i in range(1,n+1):\r\n",
        "  print('*'.join(map(str,list(j for j in range(x+i,x,-1)))))\r\n",
        "  x=x+i     "
      ],
      "execution_count": null,
      "outputs": [
        {
          "output_type": "stream",
          "text": [
            "4\n",
            "1\n",
            "3*2\n",
            "6*5*4\n",
            "10*9*8*7\n"
          ],
          "name": "stdout"
        }
      ]
    },
    {
      "cell_type": "code",
      "metadata": {
        "colab": {
          "base_uri": "https://localhost:8080/"
        },
        "id": "LNJkeBik7Jh_",
        "outputId": "05cf9860-0dfd-4eb9-ce93-a35b74872b53"
      },
      "source": [
        "n=int(input())\r\n",
        "x=1\r\n",
        "for i in range(0,n):\r\n",
        "  print(\" \"*(2*i),end=\"\")\r\n",
        "  for j in range(x,x+n-i):\r\n",
        "    print(j,end=\" \")\r\n",
        "  x=x+n-i\r\n",
        "  print()"
      ],
      "execution_count": null,
      "outputs": [
        {
          "output_type": "stream",
          "text": [
            "4\n",
            "1 2 3 4 \n",
            "  5 6 7 \n",
            "    8 9 \n",
            "      10 \n"
          ],
          "name": "stdout"
        }
      ]
    },
    {
      "cell_type": "code",
      "metadata": {
        "colab": {
          "base_uri": "https://localhost:8080/"
        },
        "id": "m7eoz41AbwzJ",
        "outputId": "85b98648-1785-4ba5-ed01-971c93487b7f"
      },
      "source": [
        "n=int(input())\r\n",
        "x=1\r\n",
        "for i in range(0,n):\r\n",
        "  print(\" \"*(2*i),end=\"\")\r\n",
        "  print(' '.join(map(str,list(j for j in range(x,x+n-i)))))\r\n",
        "  x=x+n-i\r\n"
      ],
      "execution_count": null,
      "outputs": [
        {
          "output_type": "stream",
          "text": [
            "4\n",
            "1 2 3 4\n",
            "  5 6 7\n",
            "    8 9\n",
            "      10\n"
          ],
          "name": "stdout"
        }
      ]
    },
    {
      "cell_type": "code",
      "metadata": {
        "colab": {
          "base_uri": "https://localhost:8080/"
        },
        "id": "5AECnV-r9gF9",
        "outputId": "1f1f7035-89c3-45a7-9b5c-afc3861fde03"
      },
      "source": [
        "'''\r\n",
        "n=int(input())\r\n",
        "x=1\r\n",
        "for i in range(0,n):\r\n",
        "  print(\" \"*(n-i),end=\"\")\r\n",
        "  for j in range(0,2*i+1):\r\n",
        "    print(x,end=\"\")\r\n",
        "    x=x+1\r\n",
        "  print()\r\n",
        "'''\r\n",
        "n=int(input())\r\n",
        "x=1\r\n",
        "for i in range(0,n):\r\n",
        "  print(\" \"*(n-i),end=\"\")\r\n",
        "  print(''.join(map(str,list(j for j in range(x,x+2*i+1)))))\r\n",
        "  x+=2*i+1"
      ],
      "execution_count": null,
      "outputs": [
        {
          "output_type": "stream",
          "text": [
            "3\n",
            "   1\n",
            "  234\n",
            " 56789\n"
          ],
          "name": "stdout"
        }
      ]
    },
    {
      "cell_type": "code",
      "metadata": {
        "colab": {
          "base_uri": "https://localhost:8080/"
        },
        "id": "bn5d4M5U_s7-",
        "outputId": "bec68fa0-e62a-4eab-ba35-d30384eb7554"
      },
      "source": [
        "'''\r\n",
        "n=int(input())\r\n",
        "for i in range(1,n+1):\r\n",
        "  print(\" \"*(n*2-i*2),end=\"\")\r\n",
        "  for j in range(0,2*i-1):\r\n",
        "    if(i==(j+1) and i!=1):\r\n",
        "      print(2,end=\" \")\r\n",
        "    else:\r\n",
        "      print(1,end=\" \")\r\n",
        "  print()\r\n",
        "'''\r\n",
        "n=int(input())\r\n",
        "for i in range(1,n+1):\r\n",
        "  print(\" \"*(n*2-i*2),end=\"\")\r\n",
        "  if i==1:\r\n",
        "    print(\"1\")\r\n",
        "  else:\r\n",
        "    print(\"1 \"*(i-1),end=\"\")\r\n",
        "    print(\"2 \",end=\"\")\r\n",
        "    print(\"1 \"*(i-1))"
      ],
      "execution_count": null,
      "outputs": [
        {
          "output_type": "stream",
          "text": [
            "3\n",
            "    1\n",
            "  1 2 1 \n",
            "1 1 2 1 1 \n"
          ],
          "name": "stdout"
        }
      ]
    },
    {
      "cell_type": "code",
      "metadata": {
        "colab": {
          "base_uri": "https://localhost:8080/"
        },
        "id": "TiRIR0zIB0tH",
        "outputId": "c10c8857-1c40-48e7-8924-8b1f7cee9e72"
      },
      "source": [
        "'''\r\n",
        "m=int(input())\r\n",
        "x=1\r\n",
        "y=m*(m+1)\r\n",
        "y=y-m+1\r\n",
        "for i in range(0,m):\r\n",
        "  print(\" \"*(2*i),end=\"\")\r\n",
        "  for j in range(0,m-i):\r\n",
        "    print(x,end=\"*\")\r\n",
        "    x=x+1\r\n",
        "  for k in range(0,2*(m-i)-1):\r\n",
        "    if k%2==0:\r\n",
        "      print(y,end=\"\")\r\n",
        "      y=y+1\r\n",
        "    else:\r\n",
        "      print(\"*\",end=\"\")\r\n",
        "  print()\r\n",
        "  y=(y-m+i)-(m-i)+1\r\n",
        "  '''\r\n",
        "m=int(input())\r\n",
        "x=1\r\n",
        "y=m*(m+1)-m+1\r\n",
        "for i in range(0,m):\r\n",
        "  print(\" \"*(2*i),end=\"\")\r\n",
        "  print(\"*\".join(map(str,list(j for j in range(x,x+m-i)))),end=\"*\")\r\n",
        "  print(\"*\".join(map(str,list(k for k in range(y,y+m-i)))))\r\n",
        "  x=x+m-i\r\n",
        "  y=y-m+i+1"
      ],
      "execution_count": null,
      "outputs": [
        {
          "output_type": "stream",
          "text": [
            "4\n",
            "1*2*3*4*17*18*19*20\n",
            "  5*6*7*14*15*16\n",
            "    8*9*12*13\n",
            "      10*11\n"
          ],
          "name": "stdout"
        }
      ]
    },
    {
      "cell_type": "code",
      "metadata": {
        "colab": {
          "base_uri": "https://localhost:8080/"
        },
        "id": "GnGS1eVnD3Vu",
        "outputId": "561d177a-5bee-425a-b9fb-8db49199e8ce"
      },
      "source": [
        "n=int(input())\r\n",
        "for i in range(1,n+1):\r\n",
        "  for j in range(0,n-i+1):\r\n",
        "    print(\" \"*(2*(n-i)),end=\"\")\r\n",
        "    for k in range(0,2*i-1):\r\n",
        "      print(i,end=\" \")\r\n",
        "    print()"
      ],
      "execution_count": null,
      "outputs": [
        {
          "output_type": "stream",
          "text": [
            "4\n",
            "      1 \n",
            "      1 \n",
            "      1 \n",
            "      1 \n",
            "    2 2 2 \n",
            "    2 2 2 \n",
            "    2 2 2 \n",
            "  3 3 3 3 3 \n",
            "  3 3 3 3 3 \n",
            "4 4 4 4 4 4 4 \n"
          ],
          "name": "stdout"
        }
      ]
    },
    {
      "cell_type": "markdown",
      "metadata": {
        "id": "V-09JuIJQtVK"
      },
      "source": [
        "#Day 4"
      ]
    },
    {
      "cell_type": "code",
      "metadata": {
        "colab": {
          "base_uri": "https://localhost:8080/"
        },
        "id": "rwnWiiwBEuPp",
        "outputId": "6d118bb9-0ab5-489a-a317-7d715a19f48f"
      },
      "source": [
        "#len of string\r\n",
        "s=input()\r\n",
        "l=0\r\n",
        "for i in s:\r\n",
        "  l=l+1\r\n",
        "print(\"length =\",l)"
      ],
      "execution_count": null,
      "outputs": [
        {
          "output_type": "stream",
          "text": [
            "Srija\n",
            "length = 5\n"
          ],
          "name": "stdout"
        }
      ]
    },
    {
      "cell_type": "code",
      "metadata": {
        "colab": {
          "base_uri": "https://localhost:8080/"
        },
        "id": "2cqqMs7XE5bH",
        "outputId": "de0c3616-a0b9-43aa-9c51-2181825b2e20"
      },
      "source": [
        "#remove spaces\r\n",
        "s=input()\r\n",
        "str1=\"\"\r\n",
        "c=0\r\n",
        "for i in s:\r\n",
        "  if i==' ':\r\n",
        "    c=c+1\r\n",
        "  else:\r\n",
        "    str1+=i\r\n",
        "print((\" \"*c)+str1)  \r\n"
      ],
      "execution_count": null,
      "outputs": [
        {
          "output_type": "stream",
          "text": [
            "python programming\n",
            " pythonprogramming\n"
          ],
          "name": "stdout"
        }
      ]
    },
    {
      "cell_type": "code",
      "metadata": {
        "colab": {
          "base_uri": "https://localhost:8080/"
        },
        "id": "TbnFuK2qGtPf",
        "outputId": "4ecbca76-42f7-4882-cb21-f738a3cea68c"
      },
      "source": [
        "#remove duplicates\r\n",
        "s=input()\r\n",
        "l=[]\r\n",
        "for i in s:\r\n",
        "  if i not in l:\r\n",
        "    l.append(i)\r\n",
        "print(''.join(map(str,l)))"
      ],
      "execution_count": null,
      "outputs": [
        {
          "output_type": "stream",
          "text": [
            "keerthana\n",
            "kerthan\n"
          ],
          "name": "stdout"
        }
      ]
    },
    {
      "cell_type": "code",
      "metadata": {
        "colab": {
          "base_uri": "https://localhost:8080/"
        },
        "id": "KiDRmEDzHYb2",
        "outputId": "d5525ca1-2e17-4986-87b9-0270d8707d91"
      },
      "source": [
        "#consecutive duplicates\r\n",
        "s=input()\r\n",
        "s1=s[0]\r\n",
        "l=0\r\n",
        "for i in s:\r\n",
        "  l=l+1\r\n",
        "for i in range(1,l):\r\n",
        "  if (s[i]!=s[i-1]):\r\n",
        "    s1=s1+s[i]\r\n",
        "print(s1) "
      ],
      "execution_count": null,
      "outputs": [
        {
          "output_type": "stream",
          "text": [
            "keeerrtha\n",
            "kertha\n"
          ],
          "name": "stdout"
        }
      ]
    },
    {
      "cell_type": "code",
      "metadata": {
        "colab": {
          "base_uri": "https://localhost:8080/"
        },
        "id": "lyBIUTAFJnbF",
        "outputId": "2be122d0-5443-4d79-8169-87eb91c43951"
      },
      "source": [
        "#toggle\r\n",
        "s=input()\r\n",
        "s1=\"\"\r\n",
        "for i in s:\r\n",
        "  if i>='A' and i<='Z':\r\n",
        "    s1+=chr(ord(i)+32)\r\n",
        "  elif i>='a' and i<='z':\r\n",
        "    s1+=chr(ord(i)-32)\r\n",
        "  else:\r\n",
        "    s1+=i\r\n",
        "print(s1)"
      ],
      "execution_count": null,
      "outputs": [
        {
          "output_type": "stream",
          "text": [
            "kEErthANA\n",
            "KeeRTHana\n"
          ],
          "name": "stdout"
        }
      ]
    },
    {
      "cell_type": "code",
      "metadata": {
        "colab": {
          "base_uri": "https://localhost:8080/"
        },
        "id": "AKvoNiXjMSO-",
        "outputId": "372ac7cc-e739-4c16-9365-6caa7f465c33"
      },
      "source": [
        "#no duplicates\r\n",
        "s=input()\r\n",
        "l=0\r\n",
        "for i in s:\r\n",
        "  c=0\r\n",
        "  for j in s:\r\n",
        "    if i==j:\r\n",
        "      c+=1\r\n",
        "  if (c==1):\r\n",
        "    print(i,end=\"\")"
      ],
      "execution_count": null,
      "outputs": [
        {
          "output_type": "stream",
          "text": [
            "keeeru\n",
            "kru"
          ],
          "name": "stdout"
        }
      ]
    },
    {
      "cell_type": "code",
      "metadata": {
        "colab": {
          "base_uri": "https://localhost:8080/"
        },
        "id": "JfSPM1waTk-F",
        "outputId": "8a177633-daee-44e7-f2f8-e6408efffa0c"
      },
      "source": [
        "#uncommon and non-repetitive elements\r\n",
        "a=input()\r\n",
        "b=input()\r\n",
        "s=a+b\r\n",
        "for i in s:\r\n",
        "  c=0\r\n",
        "  for j in s:\r\n",
        "    if i==j:\r\n",
        "      c+=1\r\n",
        "  if (c==1):\r\n",
        "    print(i,end=\"\")"
      ],
      "execution_count": null,
      "outputs": [
        {
          "output_type": "stream",
          "text": [
            "python\n",
            "program\n",
            "ythngam"
          ],
          "name": "stdout"
        }
      ]
    },
    {
      "cell_type": "code",
      "metadata": {
        "colab": {
          "base_uri": "https://localhost:8080/"
        },
        "id": "ea9s6ARDUnR-",
        "outputId": "9b732cfa-cd4e-47e6-d369-9094ea75b3ca"
      },
      "source": [
        "#maximum occurring char in a given string\r\n",
        "s=input()\r\n",
        "d=dict()\r\n",
        "for i in s:\r\n",
        "  if i not in d:\r\n",
        "    d[i]=s.count(i)\r\n",
        "m=max(d.values())\r\n",
        "for (i,j) in d.items():\r\n",
        "  if j==m:\r\n",
        "    print(i,end=\" \")\r\n",
        "print()"
      ],
      "execution_count": null,
      "outputs": [
        {
          "output_type": "stream",
          "text": [
            "keer\n",
            "e \n"
          ],
          "name": "stdout"
        }
      ]
    },
    {
      "cell_type": "code",
      "metadata": {
        "colab": {
          "base_uri": "https://localhost:8080/"
        },
        "id": "w0-JWlV4Ypy4",
        "outputId": "6eafad61-cfc9-4670-a566-1643c53e9f32"
      },
      "source": [
        "#check whether string contains all alphabets or not\r\n",
        "s=input()\r\n",
        "s1=s.lower()\r\n",
        "l1=[chr(i) for i in range(97,123)]\r\n",
        "c=True\r\n",
        "for i in l1:\r\n",
        "  if i not in s1:\r\n",
        "    c=False\r\n",
        "    break\r\n",
        "print(c)"
      ],
      "execution_count": null,
      "outputs": [
        {
          "output_type": "stream",
          "text": [
            "mklopnjibhuvgycftxdrzseawq\n",
            "True\n"
          ],
          "name": "stdout"
        }
      ]
    },
    {
      "cell_type": "code",
      "metadata": {
        "colab": {
          "base_uri": "https://localhost:8080/"
        },
        "id": "i40Rjwkrbc26",
        "outputId": "46c87db7-9f1c-4f44-e2b0-3404b8620700"
      },
      "source": [
        "#converting string into list,dividing with space\r\n",
        "x=list(map(str,input().split()))\r\n",
        "print(x)"
      ],
      "execution_count": null,
      "outputs": [
        {
          "output_type": "stream",
          "text": [
            "python program\n",
            "['python', 'program']\n"
          ],
          "name": "stdout"
        }
      ]
    },
    {
      "cell_type": "code",
      "metadata": {
        "colab": {
          "base_uri": "https://localhost:8080/"
        },
        "id": "HQbga9YtdnEo",
        "outputId": "e7b976fd-87ef-4029-f9d9-cf477e9833fc"
      },
      "source": [
        "#remove odd index chars from string\r\n",
        "s=input()\r\n",
        "print(s[::2])"
      ],
      "execution_count": null,
      "outputs": [
        {
          "output_type": "stream",
          "text": [
            "abcde\n",
            "ace\n"
          ],
          "name": "stdout"
        }
      ]
    },
    {
      "cell_type": "code",
      "metadata": {
        "colab": {
          "base_uri": "https://localhost:8080/"
        },
        "id": "OTdVeCaqfmd2",
        "outputId": "7c4b1f86-3bd8-45bc-8433-e10e0b0de986"
      },
      "source": [
        "#reverse order of words\r\n",
        "l=list(map(str,input().split()))\r\n",
        "x=l[::-1]\r\n",
        "print(\" \".join(map(str,x)))"
      ],
      "execution_count": null,
      "outputs": [
        {
          "output_type": "stream",
          "text": [
            "i am keeru\n",
            "keeru am i\n"
          ],
          "name": "stdout"
        }
      ]
    },
    {
      "cell_type": "code",
      "metadata": {
        "colab": {
          "base_uri": "https://localhost:8080/"
        },
        "id": "ZTVHbsDlhM7O",
        "outputId": "0dc53061-ff8f-4b31-8ef5-8ec79d07c412"
      },
      "source": [
        "#take list of words and return length of the longest string\r\n",
        "l=list(map(str,input().split()))\r\n",
        "d=dict()\r\n",
        "for i in l:\r\n",
        "  d[i]=len(i)\r\n",
        "print(max(d.values()))"
      ],
      "execution_count": null,
      "outputs": [
        {
          "output_type": "stream",
          "text": [
            "hello keerthana\n",
            "9\n"
          ],
          "name": "stdout"
        }
      ]
    },
    {
      "cell_type": "code",
      "metadata": {
        "colab": {
          "base_uri": "https://localhost:8080/"
        },
        "id": "ONv0zYX_h7E8",
        "outputId": "ca4dc2d1-10e9-4763-c548-f258b1f8b427"
      },
      "source": [
        "#capitalize first and last letters of a word\r\n",
        "s=input()\r\n",
        "s=s[0].upper()+s[1:-1]+s[-1].upper()\r\n",
        "print(s)"
      ],
      "execution_count": null,
      "outputs": [
        {
          "output_type": "stream",
          "text": [
            "program\n",
            "PrograM\n"
          ],
          "name": "stdout"
        }
      ]
    },
    {
      "cell_type": "markdown",
      "metadata": {
        "id": "fY1XnjZ3LWRD"
      },
      "source": [
        "#Day 5"
      ]
    },
    {
      "cell_type": "code",
      "metadata": {
        "id": "i4NGIohvLZYR",
        "colab": {
          "base_uri": "https://localhost:8080/"
        },
        "outputId": "9146d6d7-bad0-467a-ed94-555625ed0243"
      },
      "source": [
        "#anagram - two strings will be given, if length of both strings are same and characters are matching then it is an anagram and it should form a meaningful word\r\n",
        "a=input()\r\n",
        "b=input()\r\n",
        "c=1\r\n",
        "if len(a)==len(b):\r\n",
        "  if a==b:\r\n",
        "    print(0)\r\n",
        "  else:\r\n",
        "    for i in a:\r\n",
        "      if (i not in b) or (a.count(i)!=1 or b.count(i)!=1):\r\n",
        "        c=0\r\n",
        "        break\r\n",
        "    print(c)\r\n",
        "else:\r\n",
        "  print(0)"
      ],
      "execution_count": null,
      "outputs": [
        {
          "output_type": "stream",
          "text": [
            "abcda\n",
            "abcdc\n",
            "0\n"
          ],
          "name": "stdout"
        }
      ]
    },
    {
      "cell_type": "code",
      "metadata": {
        "colab": {
          "base_uri": "https://localhost:8080/"
        },
        "id": "T0DVi61UVNVp",
        "outputId": "7b58675b-2b02-43ba-8be3-dafdf1f1d6d3"
      },
      "source": [
        "#given 2 numbers find 2 numbers whether they are forming amicable pairs or not (sum of factors of 1st number = 2nd number and sum of factors of 2nd number = 1st number)\r\n",
        "''' test cases\r\n",
        "input: 6 6\r\n",
        "output: not amicable \r\n",
        "\r\n",
        "input: 220 284\r\n",
        "output: amicable\r\n",
        "'''\r\n",
        "a,b=map(int,input().split())\r\n",
        "if a==b:\r\n",
        "  print(0)\r\n",
        "else:\r\n",
        "  f1=f2=1\r\n",
        "  for i in range(2,max(a,b)):\r\n",
        "    if a%i==0 and a>i:\r\n",
        "      f1+=i\r\n",
        "    if b%i==0 and b>i:\r\n",
        "      f2+=i\r\n",
        "  if f1==b and f2==a:\r\n",
        "    print(1)\r\n",
        "  else:\r\n",
        "    print(0)"
      ],
      "execution_count": null,
      "outputs": [
        {
          "output_type": "stream",
          "text": [
            "220 284\n",
            "1\n"
          ],
          "name": "stdout"
        }
      ]
    },
    {
      "cell_type": "code",
      "metadata": {
        "colab": {
          "base_uri": "https://localhost:8080/"
        },
        "id": "2eEs05wLYmCQ",
        "outputId": "27c84fc4-1b05-4dfb-bd1a-afe50e9bb04b"
      },
      "source": [
        "#complimentary strings - COMBINATION OF BOTH STRINGS SHPULD CONTAIN ALL 26 CAPITAL ALPHABETS\r\n",
        "a=input().upper()\r\n",
        "b=input().upper()\r\n",
        "c=\"yes\"\r\n",
        "l=\"ABCDEFGHIJKLMNOPQRSTUVWXYZ\"\r\n",
        "if a.isalpha() and b.isalpha():\r\n",
        "  for i in l:\r\n",
        "    if i not in a+b:\r\n",
        "      c=\"no\"\r\n",
        "      break\r\n",
        "else:\r\n",
        "  c=\"no\"\r\n",
        "print(c)"
      ],
      "execution_count": null,
      "outputs": [
        {
          "output_type": "stream",
          "text": [
            "abcd1\n",
            "efghijklmnopqrstuvwxyz\n",
            "no\n"
          ],
          "name": "stdout"
        }
      ]
    },
    {
      "cell_type": "code",
      "metadata": {
        "colab": {
          "base_uri": "https://localhost:8080/"
        },
        "id": "D0DjVmE4b_Ws",
        "outputId": "7f7633e9-ed60-4ea2-ddd0-631842be0b13"
      },
      "source": [
        "#capitalize repeated letters\r\n",
        "a,b=map(str,input().split())\r\n",
        "s=a+\" \"+b\r\n",
        "s1=set(s)\r\n",
        "for i in s1:\r\n",
        "  if s.count(i)>1:\r\n",
        "    s=s.replace(i,i.upper())\r\n",
        "print(s)"
      ],
      "execution_count": null,
      "outputs": [
        {
          "output_type": "stream",
          "text": [
            "programming language\n",
            "pRoGRAMMiNG lANGuAGe\n"
          ],
          "name": "stdout"
        }
      ]
    },
    {
      "cell_type": "code",
      "metadata": {
        "colab": {
          "base_uri": "https://localhost:8080/"
        },
        "id": "-WFDCba4hOKa",
        "outputId": "1ce156e1-b6a4-4dac-9769-cbac347ddb69"
      },
      "source": [
        "#capitalize kth character and all its repetition\r\n",
        "''' input: append 2\r\n",
        "    ouput: aPPEnD '''\r\n",
        "s,k=map(str,input().split())\r\n",
        "k=int(k)\r\n",
        "for i in range(k-1,len(s),k):\r\n",
        "  s=s.replace(s[i],s[i].upper())\r\n",
        "print(s)"
      ],
      "execution_count": null,
      "outputs": [
        {
          "output_type": "stream",
          "text": [
            "append 2\n",
            "aPPEnD\n"
          ],
          "name": "stdout"
        }
      ]
    },
    {
      "cell_type": "code",
      "metadata": {
        "colab": {
          "base_uri": "https://localhost:8080/"
        },
        "id": "S1E_al_dmWcJ",
        "outputId": "1242e1e2-7215-4b66-fb17-0dd2e3e0716a"
      },
      "source": [
        "#pan card validation\r\n",
        "'''\r\n",
        "must have only uppercase\r\n",
        "10 characters only\r\n",
        "from index 1-5 all must be letters and last index must be a letter\r\n",
        "rest all must be integer starting from 1'''\r\n",
        "p=input()\r\n",
        "c=\"pan\"\r\n",
        "if len(p)==10:\r\n",
        "  x=p[0:5]+p[-1]\r\n",
        "  y=p[5:9]\r\n",
        "  if x.isalpha() and x.isupper() and y.isdigit():\r\n",
        "    for i in y:\r\n",
        "      if int(i) not in range(1,10):\r\n",
        "        c=\"not pan\"\r\n",
        "        break\r\n",
        "  else:\r\n",
        "    c=\"not pan\"\r\n",
        "else:\r\n",
        "  c=\"not pan\"\r\n",
        "print(c)"
      ],
      "execution_count": null,
      "outputs": [
        {
          "output_type": "stream",
          "text": [
            "ABCDE1234K\n",
            "pan\n"
          ],
          "name": "stdout"
        }
      ]
    },
    {
      "cell_type": "markdown",
      "metadata": {
        "id": "42LndHSVYP0b"
      },
      "source": [
        "#Day 6"
      ]
    },
    {
      "cell_type": "code",
      "metadata": {
        "colab": {
          "base_uri": "https://localhost:8080/"
        },
        "id": "kTa6LgZKYRsg",
        "outputId": "a628c795-d0df-4f7f-b770-61fd14f96aea"
      },
      "source": [
        "#sorting words without using sorted method\r\n",
        "def alphab(s):\r\n",
        "  s1='abcdefghijklmnopqrstuvwxyz'\r\n",
        "  s3=''\r\n",
        "  for i in s1.upper():\r\n",
        "    if i in s:\r\n",
        "      s3=s3+(i*s.count(i))\r\n",
        "  for i in s1:\r\n",
        "    if i in s:\r\n",
        "      s3=s3+(i*s.count(i))\r\n",
        "  print(s3)\r\n",
        "\r\n",
        "\r\n",
        "s2=input()\r\n",
        "alphab(s2)"
      ],
      "execution_count": null,
      "outputs": [
        {
          "output_type": "stream",
          "text": [
            "keer\n",
            "eekr\n"
          ],
          "name": "stdout"
        }
      ]
    },
    {
      "cell_type": "code",
      "metadata": {
        "colab": {
          "base_uri": "https://localhost:8080/"
        },
        "id": "DKk--6ZSaahp",
        "outputId": "e703404d-382c-4209-ad5e-5ef3c65cee99"
      },
      "source": [
        "#change middle elements to *\r\n",
        "u=input()\r\n",
        "n=len(u)\r\n",
        "x=(n-1)//2\r\n",
        "s=u[:x]\r\n",
        "if n%2!=0:\r\n",
        "  s=s+'*'+u[x+1:]\r\n",
        "else:\r\n",
        "  s=s+'**'+u[x+2:]\r\n",
        "print(s)"
      ],
      "execution_count": null,
      "outputs": [
        {
          "output_type": "stream",
          "text": [
            "append\n",
            "ap**nd\n"
          ],
          "name": "stdout"
        }
      ]
    },
    {
      "cell_type": "code",
      "metadata": {
        "colab": {
          "base_uri": "https://localhost:8080/"
        },
        "id": "MOn_fmBVeVf-",
        "outputId": "312953eb-47c1-445d-b1b8-ac19763329b1"
      },
      "source": [
        "#find longest common substring\r\n",
        "a=input()\r\n",
        "b=input()\r\n",
        "if len(a)>len(b):\r\n",
        "  x,y=a,b  \r\n",
        "else:\r\n",
        "  x,y=b,a\r\n",
        "c=''\r\n",
        "for j in x:\r\n",
        "  if j in y:\r\n",
        "    c=c+j\r\n",
        "print(c)"
      ],
      "execution_count": null,
      "outputs": [
        {
          "output_type": "stream",
          "text": [
            "code\n",
            "sold\n",
            "od\n"
          ],
          "name": "stdout"
        }
      ]
    },
    {
      "cell_type": "code",
      "metadata": {
        "colab": {
          "base_uri": "https://localhost:8080/"
        },
        "id": "Jbo1xUxTfxut",
        "outputId": "a7a261f7-6a4e-4122-ef21-77525e121f75"
      },
      "source": [
        "#check whether palindrome or not\r\n",
        "s=input()\r\n",
        "print('yes') if s==s[::-1] else print('no')"
      ],
      "execution_count": null,
      "outputs": [
        {
          "output_type": "stream",
          "text": [
            "keer\n",
            "no\n"
          ],
          "name": "stdout"
        }
      ]
    },
    {
      "cell_type": "code",
      "metadata": {
        "colab": {
          "base_uri": "https://localhost:8080/"
        },
        "id": "cPIa17QohTI6",
        "outputId": "6ddfe659-fdbf-4d5a-cce8-4d8afc09f124"
      },
      "source": [
        "#print encoded strings by adding 3 to each char\r\n",
        "s=input()\r\n",
        "l=set(s)\r\n",
        "for i in l:\r\n",
        "  s=s.replace(i,chr(ord(i)+3))\r\n",
        "print(s)"
      ],
      "execution_count": null,
      "outputs": [
        {
          "output_type": "stream",
          "text": [
            "abcde\n",
            "defgh\n"
          ],
          "name": "stdout"
        }
      ]
    },
    {
      "cell_type": "code",
      "metadata": {
        "colab": {
          "base_uri": "https://localhost:8080/"
        },
        "id": "FKgqB9XPhhja",
        "outputId": "5815de34-058c-4f8b-e2e1-a31728d038d3"
      },
      "source": [
        "#print min no.of chars to be inserted to convert it into a palindrome\r\n",
        "'''\r\n",
        "abcd 3\r\n",
        "value 2\r\n",
        "python 5\r\n",
        "madam 0\r\n",
        "'''\r\n",
        "a=input()\r\n",
        "if a==a[::-1]:\r\n",
        "  print(0)\r\n",
        "else:\r\n",
        "  for i in range(len(a)):\r\n",
        "    x=a[:i+1]\r\n",
        "    x=a+x[::-1]\r\n",
        "    if x==x[::-1]:\r\n",
        "      print(x)\r\n",
        "      print(i+1)\r\n",
        "      break"
      ],
      "execution_count": null,
      "outputs": [
        {
          "output_type": "stream",
          "text": [
            "python\n",
            "pythonohtyp\n",
            "5\n"
          ],
          "name": "stdout"
        }
      ]
    },
    {
      "cell_type": "code",
      "metadata": {
        "colab": {
          "base_uri": "https://localhost:8080/"
        },
        "id": "J5iB-2MYhtmM",
        "outputId": "66f1da33-2bda-422b-9923-8672b6fedc44"
      },
      "source": [
        "#lexographical or alphabetical order\r\n",
        "a=input()\r\n",
        "alphab(a)"
      ],
      "execution_count": null,
      "outputs": [
        {
          "output_type": "stream",
          "text": [
            "zvub\n",
            "buvz\n"
          ],
          "name": "stdout"
        }
      ]
    },
    {
      "cell_type": "code",
      "metadata": {
        "colab": {
          "base_uri": "https://localhost:8080/"
        },
        "id": "T_sJQIkcj2Kp",
        "outputId": "970b6059-4b54-498a-8c8d-166231bb7b2c"
      },
      "source": [
        "#find longest consecutive substring\r\n",
        "a=input()\r\n",
        "b=input()\r\n",
        "if len(a)>=len(b):\r\n",
        "  x,y=a,b  \r\n",
        "else:\r\n",
        "  x,y=b,a\r\n",
        "z=''\r\n",
        "c=''\r\n",
        "for i in range(len(y)):\r\n",
        "  for j in range(i,len(y)):\r\n",
        "    c=(y[i:j+1])\r\n",
        "    if c in x:\r\n",
        "       if len(c)>len(z):\r\n",
        "         z=c\r\n",
        "    else:\r\n",
        "      break\r\n",
        "print(z)"
      ],
      "execution_count": null,
      "outputs": [
        {
          "output_type": "stream",
          "text": [
            "cold\n",
            "sold\n",
            "old\n"
          ],
          "name": "stdout"
        }
      ]
    },
    {
      "cell_type": "code",
      "metadata": {
        "id": "QSb4eYl9sVK1"
      },
      "source": [
        "#max and min\r\n",
        "l=list(map(int,input().split()))\r\n",
        "m=max(l)\r\n",
        "n=min(l)\r\n",
        "print(m,n)"
      ],
      "execution_count": null,
      "outputs": []
    },
    {
      "cell_type": "code",
      "metadata": {
        "colab": {
          "base_uri": "https://localhost:8080/"
        },
        "id": "MNeM3XgM0G9v",
        "outputId": "1204e99f-8f4b-4764-fca8-318b8ec7aef4"
      },
      "source": [
        "#largest of even and odd inside the list\r\n",
        "l=list(map(int,input().split()))\r\n",
        "l=sorted(l,reverse=True)\r\n",
        "for i in l:\r\n",
        "  if (i%2==0):\r\n",
        "    e=i\r\n",
        "    break\r\n",
        "for i in l:\r\n",
        "  if i%2!=0:\r\n",
        "    o=i\r\n",
        "    break\r\n",
        "print(e,o)\r\n"
      ],
      "execution_count": null,
      "outputs": [
        {
          "output_type": "stream",
          "text": [
            "10 50 91 23 60\n",
            "60 91\n"
          ],
          "name": "stdout"
        }
      ]
    },
    {
      "cell_type": "code",
      "metadata": {
        "id": "8D6ymYvc1x1R",
        "colab": {
          "base_uri": "https://localhost:8080/"
        },
        "outputId": "139d6873-a3bd-48fa-943e-914caf72003d"
      },
      "source": [
        "#find the length of largest subarray whose sum is 0\r\n",
        "#consecutive elements\r\n",
        "n=int(input())\r\n",
        "l=list(map(int,input().split()))\r\n",
        "x=[0,0]\r\n",
        "for i in range(0,n):\r\n",
        "  for j in range(i,n):\r\n",
        "    y=l[i:j+1]\r\n",
        "    if sum(y)==0 and x[0]<len(y):\r\n",
        "      x[0]=len(y)\r\n",
        "      x[1]=y\r\n",
        "print(x[0])     "
      ],
      "execution_count": null,
      "outputs": [
        {
          "output_type": "stream",
          "text": [
            "6\n",
            "1 0 0 -2 3 1\n",
            "2\n"
          ],
          "name": "stdout"
        }
      ]
    },
    {
      "cell_type": "markdown",
      "metadata": {
        "id": "YDBMQRIJqNbz"
      },
      "source": [
        "#Day 7"
      ]
    },
    {
      "cell_type": "code",
      "metadata": {
        "id": "yAGig7qJqP1C",
        "colab": {
          "base_uri": "https://localhost:8080/"
        },
        "outputId": "f4460915-f186-454e-9a0c-27f28765aa19"
      },
      "source": [
        "1\r\n",
        "#find the length of largest subarray whose sum is 0\r\n",
        "#random elements\r\n",
        "from itertools import combinations\r\n",
        "n=int(input())\r\n",
        "l=list(map(int,input().split()))\r\n",
        "y=[]\r\n",
        "m=0\r\n",
        "for i in range(1,n+1):\r\n",
        "  x=list(combinations(l,i))\r\n",
        "  for j in x:\r\n",
        "    if sum(j)==0:\r\n",
        "      m=i\r\n",
        "      break\r\n",
        "print(m)"
      ],
      "execution_count": null,
      "outputs": [
        {
          "output_type": "stream",
          "text": [
            "7\n",
            "1 2 0 0 -1 4 -2\n",
            "6\n"
          ],
          "name": "stdout"
        }
      ]
    },
    {
      "cell_type": "code",
      "metadata": {
        "colab": {
          "base_uri": "https://localhost:8080/"
        },
        "id": "EkSYXJOuycAX",
        "outputId": "46afc142-204a-4cff-ddf2-a6ddfdd50cd2"
      },
      "source": [
        "from itertools import permutations\r\n",
        "res=permutations([1,2,3],3)\r\n",
        "res1=permutations([1,2,3],2)\r\n",
        "print(list(res))\r\n",
        "print(list(res1))"
      ],
      "execution_count": null,
      "outputs": [
        {
          "output_type": "stream",
          "text": [
            "[(1, 2, 3), (1, 3, 2), (2, 1, 3), (2, 3, 1), (3, 1, 2), (3, 2, 1)]\n",
            "[(1, 2), (1, 3), (2, 1), (2, 3), (3, 1), (3, 2)]\n"
          ],
          "name": "stdout"
        }
      ]
    },
    {
      "cell_type": "code",
      "metadata": {
        "id": "k4s2WcDzy4TI",
        "colab": {
          "base_uri": "https://localhost:8080/"
        },
        "outputId": "9e0f5a0c-5c16-4a33-dec5-c34e2f26c7c5"
      },
      "source": [
        "from itertools import combinations,combinations_with_replacement\r\n",
        "res=combinations([1,2,3],3)\r\n",
        "print(list(res))\r\n",
        "r=combinations_with_replacement([1,2,3],3)\r\n",
        "print(list(r))"
      ],
      "execution_count": null,
      "outputs": [
        {
          "output_type": "stream",
          "text": [
            "[(1, 2, 3)]\n",
            "[(1, 1, 1), (1, 1, 2), (1, 1, 3), (1, 2, 2), (1, 2, 3), (1, 3, 3), (2, 2, 2), (2, 2, 3), (2, 3, 3), (3, 3, 3)]\n"
          ],
          "name": "stdout"
        }
      ]
    },
    {
      "cell_type": "code",
      "metadata": {
        "id": "RQS0RqPFzj9t",
        "colab": {
          "base_uri": "https://localhost:8080/"
        },
        "outputId": "481ad2f8-b0bf-4fd8-821b-f1832e6c8efd"
      },
      "source": [
        "#sort elements in even indices\r\n",
        "n=int(input())\r\n",
        "while n!=0:\r\n",
        "  a=list(map(int,input().split()))\r\n",
        "  b=sorted(a[::2])\r\n",
        "  j=0\r\n",
        "  for i in b:\r\n",
        "    a[j]=i\r\n",
        "    j=j+2\r\n",
        "  print(*a)\r\n",
        "  print()\r\n",
        "  n=n-1"
      ],
      "execution_count": null,
      "outputs": [
        {
          "output_type": "stream",
          "text": [
            "1\n",
            "12 44 23 16 1 62\n",
            "1 44 12 16 23 62\n",
            "\n"
          ],
          "name": "stdout"
        }
      ]
    },
    {
      "cell_type": "code",
      "metadata": {
        "colab": {
          "base_uri": "https://localhost:8080/"
        },
        "id": "QshfWXSv4Qbp",
        "outputId": "624fe761-addc-4793-b951-7d2695f3c65c"
      },
      "source": [
        "#to make largest number with given list of numbers\r\n",
        "t=int(input(\"no.of test cases: \"))\r\n",
        "while t!=0:\r\n",
        "  n=int(input(\"No.of elements: \"))\r\n",
        "  a=list(map(str,input().split()))\r\n",
        "  print(''.join(map(str,sorted(a,reverse=True))))\r\n",
        "  print( )\r\n",
        "  t=t-1"
      ],
      "execution_count": null,
      "outputs": [
        {
          "output_type": "stream",
          "text": [
            "no.of test cases: 1\n",
            "No.of elements: 5\n",
            "56 6 85 95 23\n",
            "958565623\n",
            "\n"
          ],
          "name": "stdout"
        }
      ]
    },
    {
      "cell_type": "code",
      "metadata": {
        "colab": {
          "base_uri": "https://localhost:8080/"
        },
        "id": "oeJho7fm51s7",
        "outputId": "cd75fd5c-b588-4971-de1f-93a1ac5e1b07"
      },
      "source": [
        "#union of both arrays in ascending order and union must contain distinct elements\r\n",
        "t=int(input())\r\n",
        "while t!=0:\r\n",
        "  n1=int(input(\"size of arr1: \"))\r\n",
        "  l1=list(map(int,input().split()))\r\n",
        "  n2=int(input(\"size of arr2: \"))\r\n",
        "  l2=list(map(int,input().split()))\r\n",
        "  s=set(l1+l2)                               #s=list(set().union(l1,l2)) \r\n",
        "  print(*sorted(s))                          #print(*(s.sort())\r\n",
        "  print()\r\n",
        "  t-=1"
      ],
      "execution_count": null,
      "outputs": [
        {
          "output_type": "stream",
          "text": [
            "1\n",
            "size of arr1: 3\n",
            "1 2 2\n",
            "size of arr2: 5\n",
            "4 5 6 7 2\n",
            "1 2 4 5 6 7\n",
            "\n"
          ],
          "name": "stdout"
        }
      ]
    },
    {
      "cell_type": "code",
      "metadata": {
        "colab": {
          "base_uri": "https://localhost:8080/"
        },
        "id": "qVnm9D2L8qCj",
        "outputId": "6a8bad0a-075e-4c5c-ca50-befa66e602a8"
      },
      "source": [
        "#find out no.of ids occurring >=3\r\n",
        "t=int(input(\"no.of test cases: \"))\r\n",
        "while t!=0:\r\n",
        "  n=int(input('no.of ids: '))\r\n",
        "  l=list(map(int,input().split()))\r\n",
        "  s=set(l)\r\n",
        "  y=0\r\n",
        "  for i in s:\r\n",
        "    c=l.count(i)\r\n",
        "    if c>=3:\r\n",
        "      y+=1\r\n",
        "  print(y)\r\n",
        "  print()\r\n",
        "  t-=1 "
      ],
      "execution_count": null,
      "outputs": [
        {
          "output_type": "stream",
          "text": [
            "no.of test cases: 2\n",
            "no.of ids: 10\n",
            "2 1 1 3 1 8 7 2 2 6\n",
            "2\n",
            "\n",
            "no.of ids: 6\n",
            "1 3 2 4 4 4\n",
            "1\n",
            "\n"
          ],
          "name": "stdout"
        }
      ]
    },
    {
      "cell_type": "code",
      "metadata": {
        "colab": {
          "base_uri": "https://localhost:8080/"
        },
        "id": "zaqEeUA2-2Kj",
        "outputId": "c19f13cf-10d1-4344-d8e7-4e84b852cdd0"
      },
      "source": [
        "#sum of all possible permutations of each given number\r\n",
        "from itertools import permutations\r\n",
        "l=list(map(str,input().split()))\r\n",
        "s=0\r\n",
        "for i in l:\r\n",
        "  y=[int(j) for j in i]\r\n",
        "  x=permutations(y,len(y))\r\n",
        "  for j in x:\r\n",
        "    y=''.join(map(str,j))\r\n",
        "    s=s+int(y)\r\n",
        "print(s)"
      ],
      "execution_count": null,
      "outputs": [
        {
          "output_type": "stream",
          "text": [
            "12 23 2\n",
            "90\n"
          ],
          "name": "stdout"
        }
      ]
    },
    {
      "cell_type": "markdown",
      "metadata": {
        "id": "fBN77vU80Lff"
      },
      "source": [
        "#Day 8"
      ]
    },
    {
      "cell_type": "code",
      "metadata": {
        "colab": {
          "base_uri": "https://localhost:8080/"
        },
        "id": "cSdKJLPI0OMu",
        "outputId": "07ac061c-43de-49ea-fe2b-970f432e0d9c"
      },
      "source": [
        "#sort the elements based on frequency\r\n",
        "#i/p: 5\r\n",
        "#     8 8 1 1 3\r\n",
        "#o/p: 3 1 1 8 8\r\n",
        "n=int(input())\r\n",
        "l=list(map(int,input().split()))\r\n",
        "d={}\r\n",
        "for i in set(l):\r\n",
        "  d[i]=l.count(i)\r\n",
        "s=sorted(d,key=d.get)\r\n",
        "x=t=[]\r\n",
        "f=d[s[0]]\r\n",
        "for i in s:\r\n",
        "  if d[i]==f:\r\n",
        "    t.append(i)\r\n",
        "  else:\r\n",
        "    x.append(t)\r\n",
        "    t=[i]\r\n",
        "    f=d[i]\r\n",
        "x.append(t)\r\n",
        "for i in x:\r\n",
        "  for j in sorted(i):\r\n",
        "    print(((str(j))+' ')*(d[j]),end=\"\")"
      ],
      "execution_count": null,
      "outputs": [
        {
          "output_type": "stream",
          "text": [
            "5\n",
            "8 8 1 1 3\n",
            "3 1 1 8 8 "
          ],
          "name": "stdout"
        }
      ]
    },
    {
      "cell_type": "code",
      "metadata": {
        "colab": {
          "base_uri": "https://localhost:8080/"
        },
        "id": "xPQ9c3H612SI",
        "outputId": "5fec040d-f72a-410e-9b21-261a2bae1f50"
      },
      "source": [
        "#check whether the given string has balanced brackets (equal number of opening and closing brackets)\r\n",
        "#i/p:{}(0)[][{}]\r\n",
        "#o/p:yes\r\n",
        "s=input()\r\n",
        "o1=o2=o3=0\r\n",
        "c1=c2=c3=0\r\n",
        "for i in s:\r\n",
        "  if i=='(' and c1<=o1:\r\n",
        "    o1+=1\r\n",
        "  elif i==')' and c1<=o1:\r\n",
        "    c1+=1\r\n",
        "  elif i=='{' and c2<=o2:\r\n",
        "    o2+=1\r\n",
        "  elif i=='}' and c2<=o2:\r\n",
        "    c2+=1\r\n",
        "  elif i=='[' and c3<=o3:\r\n",
        "    o3+=1\r\n",
        "  elif i==']' and c3<=o3:\r\n",
        "    c3+=1\r\n",
        "  else:\r\n",
        "    continue\r\n",
        "if o1==c1 and o2==c2 and o3==c3:\r\n",
        "  print('yes')\r\n",
        "else:\r\n",
        "  print('no')\r\n"
      ],
      "execution_count": null,
      "outputs": [
        {
          "output_type": "stream",
          "text": [
            "}{)(\n",
            "no\n"
          ],
          "name": "stdout"
        }
      ]
    },
    {
      "cell_type": "code",
      "metadata": {
        "colab": {
          "base_uri": "https://localhost:8080/"
        },
        "id": "zc4vcLCt3yeg",
        "outputId": "5021dde8-34e9-4d20-83ac-cdfd51357755"
      },
      "source": [
        "#given 2 no.s N and K, followed bu N no.of integers such that sum of 2 pairs in the N numbers results K value. if exists print yes else no\r\n",
        "#i/p:4 4\r\n",
        "#    1 2 2 4\r\n",
        "#o/p:yes\r\n",
        "from itertools import permutations\r\n",
        "n,k=map(int,input().split())\r\n",
        "l=list(map(int,input().split()))\r\n",
        "if len(l)==n:\r\n",
        "  s=set(permutations(l,2))\r\n",
        "  c='no'\r\n",
        "  for i in s:\r\n",
        "    if sum(i)==k:\r\n",
        "      c='yes'\r\n",
        "      break\r\n",
        "  print(c)\r\n",
        "else:\r\n",
        "  print('Invalid input')"
      ],
      "execution_count": null,
      "outputs": [
        {
          "output_type": "stream",
          "text": [
            "4 4\n",
            "1 2 2 7\n",
            "yes\n"
          ],
          "name": "stdout"
        }
      ]
    },
    {
      "cell_type": "code",
      "metadata": {
        "colab": {
          "base_uri": "https://localhost:8080/"
        },
        "id": "WuKArHNO2lsn",
        "outputId": "18e6c047-b6da-4ed9-c792-020b5848d011"
      },
      "source": [
        "#find the maximum count of consecutively increasing numbers in the list\r\n",
        "#i/p:6\r\n",
        "#    1 2 0 3 4 5\r\n",
        "#o/p:4\r\n",
        "n=int(input())\r\n",
        "l=list(map(int,input().split()))\r\n",
        "if len(l)==n:\r\n",
        "  e=l[0]\r\n",
        "  c=1\r\n",
        "  x=[]\r\n",
        "  for i in range(1,len(l)):\r\n",
        "    if l[i]>l[i-1]:\r\n",
        "      c+=1\r\n",
        "    else:\r\n",
        "      x.append(c)\r\n",
        "      c=1\r\n",
        "  x.append(c)\r\n",
        "  print(max(x))"
      ],
      "execution_count": null,
      "outputs": [
        {
          "output_type": "stream",
          "text": [
            "6\n",
            "1 2 0 3 4 5\n",
            "4\n"
          ],
          "name": "stdout"
        }
      ]
    },
    {
      "cell_type": "code",
      "metadata": {
        "colab": {
          "base_uri": "https://localhost:8080/"
        },
        "id": "p6LGA-fpFj5a",
        "outputId": "7c34e3c9-25c8-4441-c657-1974f8a9cfc0"
      },
      "source": [
        "#find car's engine number, car's engine number=sum of integers in car's number plate\r\n",
        "#i/p:HRo5-AA-2669\r\n",
        "#o/p:28\r\n",
        "s=input()\r\n",
        "e=0\r\n",
        "for i in s:\r\n",
        "  if i.isdigit():\r\n",
        "    e+=int(i)\r\n",
        "print(e)"
      ],
      "execution_count": null,
      "outputs": [
        {
          "output_type": "stream",
          "text": [
            "HR05-AA-2669\n",
            "28\n"
          ],
          "name": "stdout"
        }
      ]
    },
    {
      "cell_type": "code",
      "metadata": {
        "colab": {
          "base_uri": "https://localhost:8080/"
        },
        "id": "jkl5T73lGMZ6",
        "outputId": "d663bf86-b902-4227-b888-79216a7630be"
      },
      "source": [
        "#wonderful string-string which is made up of exactly 3 characters, print 'Wonder' if the string is wonderful else -1\r\n",
        "s=input()\r\n",
        "l=len(set(s))\r\n",
        "if l==3:\r\n",
        "  print('Wonder')\r\n",
        "else:\r\n",
        "  print('-1')"
      ],
      "execution_count": null,
      "outputs": [
        {
          "output_type": "stream",
          "text": [
            "aabbcc\n",
            "Wonder\n"
          ],
          "name": "stdout"
        }
      ]
    },
    {
      "cell_type": "code",
      "metadata": {
        "colab": {
          "base_uri": "https://localhost:8080/"
        },
        "id": "aNvOAK31HmHT",
        "outputId": "3ab24574-3504-43cf-b684-bedc346bf809"
      },
      "source": [
        "#find 2 batsmen whose strike rate difference is minimum\r\n",
        "#i/p:6\r\n",
        "#    138.3 156.5 156.6 160.2 198.3 146.2\r\n",
        "#o/p:156.5 156.6\r\n",
        "n=int(input())\r\n",
        "l=list(map(float,input().split()))\r\n",
        "l=sorted(l,reverse=True)\r\n",
        "d=l[0]-l[1]\r\n",
        "t=(l[1],l[0])\r\n",
        "for i in range(1,n):\r\n",
        "  if (l[i-1]-l[i])<d:\r\n",
        "    t=(l[i],l[i-1])\r\n",
        "    d=l[i-1]-l[i]\r\n",
        "print(t[0],t[1])"
      ],
      "execution_count": null,
      "outputs": [
        {
          "output_type": "stream",
          "text": [
            "5\n",
            "123.0 123.1 123.4 123.2 123.7\n",
            "123.0 123.1\n"
          ],
          "name": "stdout"
        }
      ]
    },
    {
      "cell_type": "code",
      "metadata": {
        "colab": {
          "base_uri": "https://localhost:8080/"
        },
        "id": "PYEaS-z6I9t1",
        "outputId": "6129be68-6823-4bdb-e4cc-26325ca720e3"
      },
      "source": [
        "#majestic or not - majestic:sum of 1st three numbers=sum of last three numbers, if majestic 1 else -1\r\n",
        "#i/p:7\r\n",
        "#    1 2 3 4 6 0 0\r\n",
        "#o/p:1\r\n",
        "n=int(input())\r\n",
        "l=list(map(int,input().split()))\r\n",
        "if n<3:\r\n",
        "  print('Invalid input')\r\n",
        "else:\r\n",
        "  f=sum(l[0:3])\r\n",
        "  l=sum(l[-3:])\r\n",
        "  if f==l:\r\n",
        "    print(1)\r\n",
        "  else:\r\n",
        "    print(-1)"
      ],
      "execution_count": null,
      "outputs": [
        {
          "output_type": "stream",
          "text": [
            "1\n",
            "43\n",
            "Invalid input\n"
          ],
          "name": "stdout"
        }
      ]
    },
    {
      "cell_type": "code",
      "metadata": {
        "colab": {
          "base_uri": "https://localhost:8080/"
        },
        "id": "K58QdNPELA1M",
        "outputId": "c2144a27-add4-40d8-99ac-855a69f0b6b6"
      },
      "source": [
        "#given 2 no.s n and k followed by n no.of elements, print the no.of repetition of k otherwise print -1 if element is not found\r\n",
        "#i/p:6 2\r\n",
        "#    1 2 3 5 7 8\r\n",
        "#o/p:0\r\n",
        "n,k=map(int,input().split())\r\n",
        "l=list(map(int,input().split()))\r\n",
        "c=l.count(k)\r\n",
        "if c==0:\r\n",
        "  print(-1)\r\n",
        "else:\r\n",
        "  print(c-1)"
      ],
      "execution_count": null,
      "outputs": [
        {
          "output_type": "stream",
          "text": [
            "6 2\n",
            "1 3 5 4 5 6\n",
            "-1\n"
          ],
          "name": "stdout"
        }
      ]
    },
    {
      "cell_type": "code",
      "metadata": {
        "colab": {
          "base_uri": "https://localhost:8080/"
        },
        "id": "3Q2X0kDXMIT2",
        "outputId": "75c01064-9e11-42ef-e9c0-644ff8cf5676"
      },
      "source": [
        "#find distinctly appeared element\r\n",
        "#i/p:5\r\n",
        "#    1 1 2 5 5\r\n",
        "#o/p:2\r\n",
        "n=int(input())\r\n",
        "l=list(map(int,input().split()))\r\n",
        "s=set(l)\r\n",
        "for i in s:\r\n",
        "  if i<=0 or i>6:\r\n",
        "    print(-1)\r\n",
        "    break\r\n",
        "  if l.count(i)==1:\r\n",
        "    print(i,end=\" \")\r\n",
        "print()"
      ],
      "execution_count": null,
      "outputs": [
        {
          "output_type": "stream",
          "text": [
            "5\n",
            "1 1 2 5 5\n",
            "2 \n"
          ],
          "name": "stdout"
        }
      ]
    },
    {
      "cell_type": "code",
      "metadata": {
        "colab": {
          "base_uri": "https://localhost:8080/"
        },
        "id": "Z09GQySrVDHZ",
        "outputId": "fab6e194-d84c-469c-e1d1-769a22418b1d"
      },
      "source": [
        "#find highest marks\r\n",
        "#i/p:3\r\n",
        "#    82 96 72\r\n",
        "#o/p:96\r\n",
        "n=int(input())\r\n",
        "l=list(map(int,input().split()))\r\n",
        "print(max(l))"
      ],
      "execution_count": null,
      "outputs": [
        {
          "output_type": "stream",
          "text": [
            "3\n",
            "82 96 72\n",
            "96\n"
          ],
          "name": "stdout"
        }
      ]
    },
    {
      "cell_type": "code",
      "metadata": {
        "id": "1cgOWn8NWBdn"
      },
      "source": [
        ""
      ],
      "execution_count": null,
      "outputs": []
    },
    {
      "cell_type": "markdown",
      "metadata": {
        "id": "QUxelJIv5js8"
      },
      "source": [
        "#Day 9"
      ]
    },
    {
      "cell_type": "markdown",
      "metadata": {
        "id": "Vcy7IahdHP1W"
      },
      "source": [
        " Dictionary\r\n",
        " A dictionary is acollection which is unordered, changeable and indexed\r\n",
        " Keys must be unique and are immutable\r\n",
        "d.get(key) - returns the value and returns 'None' if key is not present\r\n",
        "\r\n",
        "del(d) - deletes a dictionary\r\n",
        "\r\n",
        "del d[i] - deletes an item in a dictionary\r\n",
        "\r\n",
        "update()- adds dictionary dict2's key value pairs to dict1\r\n",
        "\r\n",
        "copy() -  returns a shallow copy of the dictionary\r\n",
        "\r\n",
        "pop(key) -  removes and returns an elemen from a dictionary having the given key\r\n",
        "\r\n",
        "d.popitem() -  removes the arbitary key-value pair from the dictionary and returns it as a tuple\r\n",
        "\r\n",
        "d.clear() -  removes all elements in the dictionary\r\n",
        "\r\n",
        "d.keys() - returns list of keys\r\n",
        "\r\n",
        "d.values() - returns a list of all values \r\n",
        "\r\n",
        "d.items() -  returns a list of (key,value) tuple pairs\r\n",
        "\r\n",
        "dict.fromkeys(d,value) - creates a new dictionary with keys from sequence and values set to value\r\n",
        "\r\n",
        "d.setdefault(key[,default value]) \r\n",
        "\r\n",
        "\r\n",
        "#### Nested Dictionary - a dictionary inside another dictionary\r\n",
        "\r\n",
        "\r\n",
        "#### Dictionary Comprehensions - is a method of transforming one dictionary into another dictionary \r\n",
        "d1={k:v*2 for (k,v) in d.items()}"
      ]
    },
    {
      "cell_type": "markdown",
      "metadata": {
        "id": "iyHKreSAKfhq"
      },
      "source": [
        " Set\r\n",
        " \r\n",
        "A set is an unordered collection of data type that is iterable, mutable and has no duplicate elements\r\n",
        "It has no indexing.\r\n",
        "\r\n",
        "We can access it using in operator\r\n",
        "\r\n",
        "for i in s:\r\n",
        "   print(i)\r\n",
        "\r\n",
        "Elements in the sets cannot be accessed using indexing and hence modifying is not possible.\r\n",
        "\r\n",
        "add()\r\n",
        "\r\n",
        "update() -  returns the union of itself and others\r\n",
        "\r\n",
        "copy()\r\n",
        "\r\n",
        "clear()\r\n",
        "\r\n",
        "remove() - removes an element from the set, if element is not present it raises KeyError\r\n",
        "\r\n",
        "pop() -  removes and returns an arbitary set element, if set is empty raises KeyError\r\n",
        "\r\n",
        "discard() - removes an element from the set if it is a member, do nothing if it is not present\r\n",
        "\r\n",
        "union() - returns union of sets in a new set\r\n",
        "\r\n",
        "intersection() - returns the intersection of sets as a new set\r\n",
        "\r\n",
        "intersection_update() - updates the set with the intersection of itself and another\r\n",
        "\r\n",
        "difference() - retruns the difference of 2 or more sets as a new set\r\n",
        "\r\n",
        "difference_update() - removes all elements of another set from this set\r\n",
        "\r\n",
        "symmetric_difference() - returns the symmetric difference of two sets as a new set\r\n",
        "\r\n",
        "symmetric_difference_update() - updates a set with the symmetric difference of itself and another\r\n",
        "\r\n",
        "isdisjoint() - returns True if 2 sets have a null intersection\r\n",
        "\r\n",
        "issubset() - returns true if another set contains this set\r\n",
        "\r\n",
        "issuperset() - returns true if this set contains another set\r\n",
        "\r\n",
        "sum(), max(), min(), len()\r\n",
        "\r\n",
        "all() - if all are non-zero true else false\r\n",
        "\r\n",
        "any() - if any one is non-zero\r\n",
        "\r\n",
        "sorted() - returns a new sorted list from elements in the set\r\n",
        "\r\n",
        "\r\n",
        "\r\n",
        "#### Set Comprehension - returns a set based on existing iterables\r\n",
        "{expression(variable) for variable in input_set[predicate][,..]\r\n",
        "\r\n",
        "res={s for s in [1,2,3] if s%2}\r\n",
        "\r\n",
        "print(res)\r\n",
        "\r\n",
        "o/p: {1,3}"
      ]
    },
    {
      "cell_type": "markdown",
      "metadata": {
        "id": "f7dJWbjxPNmt"
      },
      "source": [
        " Frozenset\r\n",
        " \r\n",
        "Frozensets are immutable. \r\n",
        "Frozenset can be created using the functions frozenset()\r\n",
        "a=frozenset([1,2,3,4]) - supports copy,diff,inter,isdisjoint,issub,issuper,sym_diff and union"
      ]
    },
    {
      "cell_type": "code",
      "metadata": {
        "colab": {
          "base_uri": "https://localhost:8080/"
        },
        "id": "N8izw0A9Kboc",
        "outputId": "20034581-74b6-458f-eef8-04c0e479cbea"
      },
      "source": [
        "#to add a key to dictionary\r\n",
        "#ip: 1 2 2 3 3 4\r\n",
        "#    4 5\r\n",
        "#op: {1:2,2:3,3:4,4:5}\r\n",
        "l=list(map(int,input().split()))\r\n",
        "a,b=map(int,input().split())\r\n",
        "d={}\r\n",
        "i=0\r\n",
        "while i!=(len(l)):\r\n",
        "  d[l[i]]=l[i+1]\r\n",
        "  i=i+2\r\n",
        "d[a]=b\r\n",
        "print(d)"
      ],
      "execution_count": null,
      "outputs": [
        {
          "output_type": "stream",
          "text": [
            "1 2 2 3 3 4\n",
            "4 5\n",
            "{1: 2, 2: 3, 3: 4, 4: 5}\n"
          ],
          "name": "stdout"
        }
      ]
    },
    {
      "cell_type": "code",
      "metadata": {
        "colab": {
          "base_uri": "https://localhost:8080/"
        },
        "id": "oKSOptBE5nP6",
        "outputId": "d34ccd79-b7d6-4300-839d-5f105e1159d6"
      },
      "source": [
        "#to check whether a given key already existing in a dictionary\r\n",
        "#{1:10,2:20,3:30.4:40:5:50,6:60}\r\n",
        "#2\r\n",
        "s=input()\r\n",
        "k=int(input())\r\n",
        "s=s[1:-1]\r\n",
        "l=s.split(',')\r\n",
        "d={}\r\n",
        "for i in l:\r\n",
        "  t=i.split(':')\r\n",
        "  d[int(t[0])]=int(t[1])\r\n",
        "if k in d.keys():\r\n",
        "  print('Already Existing')\r\n",
        "else:\r\n",
        "  print(\"Not existing\")"
      ],
      "execution_count": null,
      "outputs": [
        {
          "output_type": "stream",
          "text": [
            "{1:10,2:20,3:30,4:40,5:50,6:60}\n",
            "2\n",
            "['1:10', '2:20', '3:30', '4:40', '5:50', '6:60']\n",
            "Already Existing\n"
          ],
          "name": "stdout"
        }
      ]
    },
    {
      "cell_type": "code",
      "metadata": {
        "colab": {
          "base_uri": "https://localhost:8080/"
        },
        "id": "DlzzIbbYRMFW",
        "outputId": "9d9a79b9-581f-492e-d937-8431d915372d"
      },
      "source": [
        "#print squares\r\n",
        "#ip:3\r\n",
        "#op:{1:1,2:4,3:9}\r\n",
        "n=int(input())\r\n",
        "d={i:i**2 for i in range(1,n+1)}\r\n",
        "print(d)"
      ],
      "execution_count": null,
      "outputs": [
        {
          "output_type": "stream",
          "text": [
            "3\n",
            "{1: 1, 2: 4, 3: 9}\n"
          ],
          "name": "stdout"
        }
      ]
    },
    {
      "cell_type": "code",
      "metadata": {
        "id": "st_7JDgkcNCJ",
        "colab": {
          "base_uri": "https://localhost:8080/"
        },
        "outputId": "59ecfac2-05b9-4989-9172-4d1faea2b2e6"
      },
      "source": [
        "def convert(s):\r\n",
        "  s=s[1:-1]\r\n",
        "  l=s.split(',')\r\n",
        "  d={}\r\n",
        "  for i in l:\r\n",
        "    t=i.split(':')\r\n",
        "    if t[0].isdigit():\r\n",
        "      d[int(t[0])]=int(t[1])\r\n",
        "    else:\r\n",
        "      d[t[0]]=int(t[1])\r\n",
        "  return d\r\n",
        "\r\n",
        "n=input()\r\n",
        "print(convert(n))"
      ],
      "execution_count": null,
      "outputs": [
        {
          "output_type": "stream",
          "text": [
            "{a:1,b:2}\n",
            "{'a': 1, 'b': 2}\n"
          ],
          "name": "stdout"
        }
      ]
    },
    {
      "cell_type": "code",
      "metadata": {
        "colab": {
          "base_uri": "https://localhost:8080/"
        },
        "id": "meII6WieRWlU",
        "outputId": "f4ad73dc-4b85-4d86-d990-531dca659f3e"
      },
      "source": [
        "#merge 2 python dictionaries\r\n",
        "#ip:{1:2,3:4}\r\n",
        "#   {5:6}\r\n",
        "#op:{1:2,3:4,5:6}\r\n",
        "a=input()\r\n",
        "b=input()\r\n",
        "d1=convert(a)\r\n",
        "d2=convert(b)\r\n",
        "for i in d2.keys():\r\n",
        "  if i not in  d1.keys():\r\n",
        "    d1[i]=d2[i]\r\n",
        "print(d1)"
      ],
      "execution_count": null,
      "outputs": [
        {
          "output_type": "stream",
          "text": [
            "{1:2,3:4}\n",
            "{5:6}\n",
            "{1: 2, 3: 4, 5: 6}\n"
          ],
          "name": "stdout"
        }
      ]
    },
    {
      "cell_type": "code",
      "metadata": {
        "colab": {
          "base_uri": "https://localhost:8080/"
        },
        "id": "rwyk1SNzRiIW",
        "outputId": "9f3fdb62-9bd9-46c2-af89-558f6bb6e030"
      },
      "source": [
        "#remove a key from dictionary\r\n",
        "#ip:{9:5,3:4,8:5,6:7}\r\n",
        "#   3\r\n",
        "#op:{9:5,8:5,6:7}\r\n",
        "p=input()\r\n",
        "p=convert(p)\r\n",
        "k=int(input())\r\n",
        "if k in p.keys():\r\n",
        "  del p[k]\r\n",
        "  print(p)\r\n",
        "else:\r\n",
        "  print(-1)"
      ],
      "execution_count": null,
      "outputs": [
        {
          "output_type": "stream",
          "text": [
            "{9:5,3:4,8:5,6:7}\n",
            "3\n",
            "{9: 5, 8: 5, 6: 7}\n"
          ],
          "name": "stdout"
        }
      ]
    },
    {
      "cell_type": "code",
      "metadata": {
        "colab": {
          "base_uri": "https://localhost:8080/"
        },
        "id": "4l_Me3HARuVd",
        "outputId": "af847d1d-a389-4ff8-f9b1-43a38e233a0c"
      },
      "source": [
        "#map 2 lists into dictionary\r\n",
        "#ip:1 2 3\r\n",
        "#   2 3 5\r\n",
        "#op:{1:2,2:3,3:4}\r\n",
        "l1=list(map(int,input().split()))\r\n",
        "l2=list(map(int,input().split()))\r\n",
        "if len(l1)==len(l2):\r\n",
        "  i=0\r\n",
        "  while i!=len(l1):\r\n",
        "    d[l1[i]]=l2[i]\r\n",
        "    i+=1\r\n",
        "  print(d)\r\n",
        "else:\r\n",
        "  print(-1)"
      ],
      "execution_count": null,
      "outputs": [
        {
          "output_type": "stream",
          "text": [
            "1 2 3\n",
            "2 3 5\n",
            "{1: 2, 2: 3, 3: 5}\n"
          ],
          "name": "stdout"
        }
      ]
    },
    {
      "cell_type": "code",
      "metadata": {
        "colab": {
          "base_uri": "https://localhost:8080/"
        },
        "id": "6xX9sUQZR3QN",
        "outputId": "1753e7c2-dce2-4b9e-d626-912e60f9d855"
      },
      "source": [
        "#combine 2 dictionaries adding values for common keys\r\n",
        "#ip:{a:100,b:200,c:300}\r\n",
        "#   {a:300,b:200,d:400}\r\n",
        "#o/p:{b:400,d:400,a:400,c:300}\r\n",
        "s1=input()\r\n",
        "s2=input()\r\n",
        "d1=convert(s1)\r\n",
        "d2=convert(s2)\r\n",
        "for i in d2.keys():\r\n",
        "  if i in d1.keys():\r\n",
        "    d1[i]+=d2[i]\r\n",
        "  else:\r\n",
        "    d1[i]=d2[i]\r\n",
        "print(d1)\r\n"
      ],
      "execution_count": null,
      "outputs": [
        {
          "output_type": "stream",
          "text": [
            "{a:100,b:200,c:300}\n",
            "{a:300,b:200,d:400}\n",
            "{'a': 100, 'b': 200, 'c': 300} {'a': 300, 'b': 200, 'd': 400}\n",
            "{'a': 400, 'b': 400, 'c': 300, 'd': 400}\n"
          ],
          "name": "stdout"
        }
      ]
    },
    {
      "cell_type": "code",
      "metadata": {
        "id": "PATYtVP6SMp1",
        "colab": {
          "base_uri": "https://localhost:8080/"
        },
        "outputId": "49b2fb97-3d97-41a6-af8d-8f4a9a2439c7"
      },
      "source": [
        "#to create set difference\r\n",
        "#ip:1 2 3 4\r\n",
        "#2 3 5\r\n",
        "#op:{'1','4'}\r\n",
        "s1=set(map(str,input().split()))\r\n",
        "s2=set(map(str,input().split()))\r\n",
        "print(s1.difference(s2))"
      ],
      "execution_count": null,
      "outputs": [
        {
          "output_type": "stream",
          "text": [
            "1 2 3 4\n",
            "2 3 5\n",
            "{'1', '4'}\n"
          ],
          "name": "stdout"
        }
      ]
    },
    {
      "cell_type": "code",
      "metadata": {
        "id": "nBa7BCGlSV7F",
        "colab": {
          "base_uri": "https://localhost:8080/"
        },
        "outputId": "5c3fac0a-54ef-4b6c-a3c3-758c40b6aa14"
      },
      "source": [
        "#to create union of set\r\n",
        "#ip: 1 2 3 4\r\n",
        "#    2 3 5\r\n",
        "#op: 1 2 3 4 5\r\n",
        "s1=set(map(int,input().split()))\r\n",
        "s2=set(map(int,input().split()))\r\n",
        "print(sorted(s1.union(s2)))"
      ],
      "execution_count": null,
      "outputs": [
        {
          "output_type": "stream",
          "text": [
            "1 2 3 4\n",
            "2 3 5\n",
            "[1, 2, 3, 4, 5]\n"
          ],
          "name": "stdout"
        }
      ]
    },
    {
      "cell_type": "code",
      "metadata": {
        "id": "vUqvqMhESfSG",
        "colab": {
          "base_uri": "https://localhost:8080/"
        },
        "outputId": "3e292a0f-1136-4813-b92d-069fa990a5c9"
      },
      "source": [
        "#to create intersection\r\n",
        "s1=set(map(int,input().split()))\r\n",
        "s2=set(map(int,input().split()))\r\n",
        "print(sorted(s1.intersection(s2)))"
      ],
      "execution_count": null,
      "outputs": [
        {
          "output_type": "stream",
          "text": [
            "1 2 3 4\n",
            "2 3 5\n",
            "[2, 3]\n"
          ],
          "name": "stdout"
        }
      ]
    },
    {
      "cell_type": "code",
      "metadata": {
        "id": "9jXgfLoySmUl",
        "colab": {
          "base_uri": "https://localhost:8080/"
        },
        "outputId": "bf94daa2-6909-4512-a09a-2a3d52dd3162"
      },
      "source": [
        "#to find length of set\r\n",
        "#9 8 5 6 1\r\n",
        "#5\r\n",
        "s=set(map(int,input().split()))\r\n",
        "print(len(s))"
      ],
      "execution_count": null,
      "outputs": [
        {
          "output_type": "stream",
          "text": [
            "9 8 5 6 1\n",
            "5\n"
          ],
          "name": "stdout"
        }
      ]
    },
    {
      "cell_type": "code",
      "metadata": {
        "id": "H20-EVqDSooW",
        "colab": {
          "base_uri": "https://localhost:8080/"
        },
        "outputId": "42513202-37ea-4f8b-9844-9f986a7644cb"
      },
      "source": [
        "#find max and min elements in a set\r\n",
        "#9 7 5 1 3\r\n",
        "#Max: 9\r\n",
        "#Min: 1\r\n",
        "s=set(map(int,input().split()))\r\n",
        "print('Max:',max(s))\r\n",
        "print('Min:',min(s))"
      ],
      "execution_count": null,
      "outputs": [
        {
          "output_type": "stream",
          "text": [
            "9 7 5 1 3\n",
            "Max: 9\n",
            "Min: 1\n"
          ],
          "name": "stdout"
        }
      ]
    },
    {
      "cell_type": "code",
      "metadata": {
        "id": "XMPrgedqSy1N",
        "colab": {
          "base_uri": "https://localhost:8080/"
        },
        "outputId": "89e4f6fa-8ea8-4305-a21f-2bb037fb2c06"
      },
      "source": [
        "#check whether every element in s is in t and every element in u is in s and every element in u is in t\r\n",
        "#8 5 1\r\n",
        "#5 1 \r\n",
        "#1 2 3 5 8\r\n",
        "def check(a,b):\r\n",
        "  c=True\r\n",
        "  for i in a:\r\n",
        "    if i not in b:\r\n",
        "      c=False\r\n",
        "      break\r\n",
        "  print(c)\r\n",
        "  return\r\n",
        "\r\n",
        "s=set(map(int,input().split()))\r\n",
        "t=set(map(int,input().split()))\r\n",
        "u=set(map(int,input().split()))\r\n",
        "check(s,t)\r\n",
        "check(u,s)\r\n",
        "check(u,t)"
      ],
      "execution_count": null,
      "outputs": [
        {
          "output_type": "stream",
          "text": [
            "8 5 1\n",
            "5 1\n",
            "1 2 3 5 8\n",
            "False\n",
            "False\n",
            "False\n"
          ],
          "name": "stdout"
        }
      ]
    },
    {
      "cell_type": "code",
      "metadata": {
        "id": "w04leDekUCf4",
        "colab": {
          "base_uri": "https://localhost:8080/"
        },
        "outputId": "790fb467-ae90-49d3-a348-eb4397e26bf5"
      },
      "source": [
        "#symmetric difference\r\n",
        "#1 2 3\r\n",
        "#2 4 1\r\n",
        "#{'3','4'}\r\n",
        "s1=set(map(str,input().split()))\r\n",
        "s2=set(map(str,input().split()))\r\n",
        "print(set(sorted(s1.symmetric_difference(s2))))"
      ],
      "execution_count": null,
      "outputs": [
        {
          "output_type": "stream",
          "text": [
            "1 2 3\n",
            "2 4 1\n",
            "{'3', '4'}\n"
          ],
          "name": "stdout"
        }
      ]
    },
    {
      "cell_type": "code",
      "metadata": {
        "id": "NpbjIRQTUQ4A"
      },
      "source": [
        "#convert list into a nested dictionary\r\n",
        "#ip:1 2 3 4\r\n",
        "#op:{1:{2:{3:{4:{}}}}}\r\n",
        "l=list(map(int,input().split()))\r\n",
        "d=dict()\r\n",
        "d[l[-1]]={}\r\n",
        "for i in range(len(n)-2,0,-1):\r\n",
        "  d[l[i]]"
      ],
      "execution_count": null,
      "outputs": []
    },
    {
      "cell_type": "markdown",
      "metadata": {
        "id": "jotUvwTDhwbi"
      },
      "source": [
        "# Day 10"
      ]
    },
    {
      "cell_type": "code",
      "metadata": {
        "colab": {
          "base_uri": "https://localhost:8080/"
        },
        "id": "zW8TjOjEPuSu",
        "outputId": "81c44964-6e76-4b74-88c7-6ac6b2cc490f"
      },
      "source": [
        "def f(x):\r\n",
        "  yield x+1\r\n",
        "  print('star')\r\n",
        "  yield x+2\r\n",
        "g=f(10)\r\n",
        "print(next(g))\r\n",
        "print(next(g))"
      ],
      "execution_count": null,
      "outputs": [
        {
          "output_type": "stream",
          "text": [
            "11\n",
            "star\n",
            "12\n"
          ],
          "name": "stdout"
        }
      ]
    },
    {
      "cell_type": "code",
      "metadata": {
        "colab": {
          "base_uri": "https://localhost:8080/"
        },
        "id": "e_ytAdj_QAK7",
        "outputId": "09a7298d-b041-43de-c512-f9bf8128db39"
      },
      "source": [
        "'1'== 1"
      ],
      "execution_count": null,
      "outputs": [
        {
          "output_type": "execute_result",
          "data": {
            "text/plain": [
              "False"
            ]
          },
          "metadata": {
            "tags": []
          },
          "execution_count": 56
        }
      ]
    },
    {
      "cell_type": "code",
      "metadata": {
        "id": "n68lyb7QRweE"
      },
      "source": [
        ""
      ],
      "execution_count": null,
      "outputs": []
    },
    {
      "cell_type": "markdown",
      "metadata": {
        "id": "DTiZ-bJQUGQm"
      },
      "source": [
        "we cannot use 'not in' in loops \r\n",
        "\r\n",
        "'1' == 1 returns False\r\n",
        "\r\n"
      ]
    },
    {
      "cell_type": "code",
      "metadata": {
        "colab": {
          "base_uri": "https://localhost:8080/"
        },
        "id": "-EAiD_QsXzRR",
        "outputId": "b1ce905a-3351-4e41-f51f-fef97897113e"
      },
      "source": [
        "def pattern(n):\r\n",
        "  for i in range(n,0,-1):\r\n",
        "    for j in range(1,i+1):\r\n",
        "      print(j,end=\" \")\r\n",
        "    print(\" \")\r\n",
        "pattern(4)"
      ],
      "execution_count": null,
      "outputs": [
        {
          "output_type": "stream",
          "text": [
            "1 2 3 4  \n",
            "1 2 3  \n",
            "1 2  \n",
            "1  \n"
          ],
          "name": "stdout"
        }
      ]
    },
    {
      "cell_type": "code",
      "metadata": {
        "colab": {
          "base_uri": "https://localhost:8080/"
        },
        "id": "JVKtS3aFXz6O",
        "outputId": "83082c95-f050-4a49-c170-6c5d541a963e"
      },
      "source": [
        "a=[[]]*5\r\n",
        "print(a)\r\n",
        "a[1].append(10)\r\n",
        "print(a)\r\n",
        "a[1]=3\r\n",
        "print(a)"
      ],
      "execution_count": null,
      "outputs": [
        {
          "output_type": "stream",
          "text": [
            "[[], [], [], [], []]\n",
            "[[10], [10], [10], [10], [10]]\n",
            "[[10], 3, [10], [10], [10]]\n"
          ],
          "name": "stdout"
        }
      ]
    },
    {
      "cell_type": "code",
      "metadata": {
        "colab": {
          "base_uri": "https://localhost:8080/"
        },
        "id": "z2Zlwd9BaGou",
        "outputId": "c5a66240-d190-4529-ffcd-1697e9a7c76c"
      },
      "source": [
        "l=[13,14,16,11,12]\r\n",
        "l[1:2]=[[17,67],18]\r\n",
        "print(l)"
      ],
      "execution_count": null,
      "outputs": [
        {
          "output_type": "stream",
          "text": [
            "[13, [17, 67], 18, 16, 11, 12]\n"
          ],
          "name": "stdout"
        }
      ]
    },
    {
      "cell_type": "code",
      "metadata": {
        "colab": {
          "base_uri": "https://localhost:8080/",
          "height": 35
        },
        "id": "hRSvf86marJ-",
        "outputId": "99dc559a-92b7-41aa-dcbf-5d2933e4de1a"
      },
      "source": [
        "bin(5-2)+bin(10^5)"
      ],
      "execution_count": null,
      "outputs": [
        {
          "output_type": "execute_result",
          "data": {
            "application/vnd.google.colaboratory.intrinsic+json": {
              "type": "string"
            },
            "text/plain": [
              "'0b110b1111'"
            ]
          },
          "metadata": {
            "tags": []
          },
          "execution_count": 60
        }
      ]
    },
    {
      "cell_type": "code",
      "metadata": {
        "colab": {
          "base_uri": "https://localhost:8080/"
        },
        "id": "m7bk2f33dFKe",
        "outputId": "be1eacb7-4fde-4a4d-d30d-8252a97646cb"
      },
      "source": [
        "print('{0:-3%}'.format(5.0/2))\r\n",
        "print('{0:-200%}'.format(5.0/2))\r\n",
        "print('{0:200%}'.format(5.0/2))\r\n",
        "print('{0:%}'.format(5.0/2))\r\n",
        "#print('{1:100%}'.format(5.0/2))   o/p:IndexError: tuple index out of range"
      ],
      "execution_count": null,
      "outputs": [
        {
          "output_type": "stream",
          "text": [
            "250.000000%\n",
            "                                                                                                                                                                                             250.000000%\n",
            "                                                                                                                                                                                             250.000000%\n",
            "250.000000%\n"
          ],
          "name": "stdout"
        }
      ]
    },
    {
      "cell_type": "code",
      "metadata": {
        "colab": {
          "base_uri": "https://localhost:8080/"
        },
        "id": "GLyv3Hl3eKIQ",
        "outputId": "6f88ffc4-61ca-403d-ad38-75f3ab7440ee"
      },
      "source": [
        "print(['a','b']*3)\r\n",
        "print(['a','b']*+3)\r\n",
        "print(['a','b']*-3)\r\n",
        "#print(['a','b']-*3) error\r\n",
        "#print(['a','b']*%3) error\r\n",
        "#print(['a','b']*/3) error\r\n",
        "#print(['a','b']+3) error\r\n",
        "print(['a','b']+[3])\r\n",
        "#print(['a','b']+('3')) error"
      ],
      "execution_count": null,
      "outputs": [
        {
          "output_type": "stream",
          "text": [
            "['a', 'b', 'a', 'b', 'a', 'b']\n",
            "['a', 'b', 'a', 'b', 'a', 'b']\n",
            "[]\n",
            "['a', 'b', 3]\n"
          ],
          "name": "stdout"
        }
      ]
    },
    {
      "cell_type": "code",
      "metadata": {
        "id": "KSu7BJL1kTgb"
      },
      "source": [
        "#two no.s n & q, array of n integers followed by q queries each consisting of L,R. \r\n",
        "#Find the gcd of no.s in [L,R]. If there is only one number in the given range, then print the number itself\r\n",
        "#input:\r\n",
        "#5 2 \r\n",
        "#1 2 3 4 5\r\n",
        "#1 2\r\n",
        "#4 5\r\n",
        "#output:\r\n",
        "#1\r\n",
        "#1\r\n",
        "n=int(input())\r\n"
      ],
      "execution_count": null,
      "outputs": []
    },
    {
      "cell_type": "code",
      "metadata": {
        "colab": {
          "base_uri": "https://localhost:8080/"
        },
        "id": "lDZOdRh2fNF6",
        "outputId": "d4815271-14f1-4d39-c304-13d8f0babaf2"
      },
      "source": [
        "#find first '-'ve integer for each and every window of size k\r\n",
        "#ip:7\r\n",
        "#   1 -2 -3 -4 5 6 -7\r\n",
        "#   3\r\n",
        "#op:-2 -2 -3 -4 -7\r\n",
        "n=int(input())\r\n",
        "l=list(map(int,input().split()))\r\n",
        "k=int(input())\r\n",
        "i=0\r\n",
        "j=3\r\n",
        "while j<=n:\r\n",
        "  s=l[i:j]\r\n",
        "  for k in s:\r\n",
        "    if k<0:\r\n",
        "      print(k,end=\" \")\r\n",
        "      break\r\n",
        "  i=i+1\r\n",
        "  j=i+3\r\n",
        "print()"
      ],
      "execution_count": null,
      "outputs": [
        {
          "output_type": "stream",
          "text": [
            "7\n",
            "1 -2 -3 -4 5 6 -7\n",
            "3\n",
            "-2 -2 -3 -4 -7 \n"
          ],
          "name": "stdout"
        }
      ]
    },
    {
      "cell_type": "markdown",
      "metadata": {
        "id": "1Dym_M0CaVFV"
      },
      "source": [
        "# Day 11                          "
      ]
    },
    {
      "cell_type": "code",
      "metadata": {
        "id": "Z7nZX1WBiRSE"
      },
      "source": [
        "def weight(s):\r\n",
        "  s1=0\r\n",
        "  for i in s:\r\n",
        "    s1+=ord(i)\r\n",
        "  return s1"
      ],
      "execution_count": null,
      "outputs": []
    },
    {
      "cell_type": "code",
      "metadata": {
        "colab": {
          "base_uri": "https://localhost:8080/"
        },
        "id": "DSYMqfADidI2",
        "outputId": "8850699f-167b-4257-9594-1268a80d6b7a"
      },
      "source": [
        "a=input()\r\n",
        "print(weight(a))"
      ],
      "execution_count": null,
      "outputs": [
        {
          "output_type": "stream",
          "text": [
            "abc\n",
            "294\n"
          ],
          "name": "stdout"
        }
      ]
    },
    {
      "cell_type": "code",
      "metadata": {
        "colab": {
          "base_uri": "https://localhost:8080/"
        },
        "id": "GDmu589zikLy",
        "outputId": "eadada5c-3de3-4092-8950-4682bb7b67b1"
      },
      "source": [
        "a=input()\r\n",
        "d=0\r\n",
        "for i in a:\r\n",
        "  if i.isalpha():\r\n",
        "    print(i,end='')\r\n",
        "  elif i.isnumeric():\r\n",
        "    d+=int(i)\r\n",
        "print(d)"
      ],
      "execution_count": null,
      "outputs": [
        {
          "output_type": "stream",
          "text": [
            "abcd30e88\n",
            "abcde19\n"
          ],
          "name": "stdout"
        }
      ]
    },
    {
      "cell_type": "code",
      "metadata": {
        "colab": {
          "base_uri": "https://localhost:8080/"
        },
        "id": "95kNcnKTjBnB",
        "outputId": "a9fd880c-e101-43c9-a301-823775db909c"
      },
      "source": [
        "b=input()\r\n",
        "n=len(b)\r\n",
        "i=0\r\n",
        "x=''\r\n",
        "c=[]\r\n",
        "for i in b:\r\n",
        "  if i.isdigit():\r\n",
        "    x=x+i\r\n",
        "  elif x!='':\r\n",
        "    c.append(int(x))\r\n",
        "    x=''\r\n",
        "if x!='':\r\n",
        "  c.append(int(x))\r\n",
        "print(max(c))"
      ],
      "execution_count": null,
      "outputs": [
        {
          "output_type": "stream",
          "text": [
            "keerthana 21 keer 2001\n",
            "[21, 2001]\n",
            "2001\n"
          ],
          "name": "stdout"
        }
      ]
    },
    {
      "cell_type": "code",
      "metadata": {
        "id": "pPB1vXcZj3ji"
      },
      "source": [
        "b=input()\r\n",
        "n=len(b)\r\n",
        "i=0\r\n",
        "x=''\r\n",
        "c=[]\r\n",
        "for i in b:\r\n",
        "  print(i,end=\" \")\r\n",
        "  if i.isdigit():\r\n",
        "    x=x+i\r\n",
        "    print(x)\r\n",
        "  elif x!='' or :\r\n",
        "    c.append(int(x))\r\n",
        "    x=''\r\n",
        "if x!='':\r\n",
        "  c.append(x)\r\n",
        "print(max(c))"
      ],
      "execution_count": null,
      "outputs": []
    },
    {
      "cell_type": "markdown",
      "metadata": {
        "id": "P8Uf2WVcgRIr"
      },
      "source": [
        "# Day 12"
      ]
    },
    {
      "cell_type": "markdown",
      "metadata": {
        "id": "lJhal5LLiglb"
      },
      "source": [
        "Heirarchy of programming paradigms\r\n",
        "\r\n",
        "Machine language -> Assembly language -> Structural programming languages -> Procedural programming languages -> OOP\r\n",
        "\r\n",
        "- python supports all languages\r\n",
        "- dynamically typed language\r\n",
        "\r\n",
        "OOPS PARADIGMS\r\n",
        "- Encapsulation\r\n",
        "- Class\r\n",
        "- Abstract class\r\n",
        "- Inheritance\r\n",
        "- Abstraction\r\n",
        "- Polymorphism\r\n",
        "- Ac"
      ]
    },
    {
      "cell_type": "code",
      "metadata": {
        "colab": {
          "base_uri": "https://localhost:8080/"
        },
        "id": "-Oo_VmvcgSox",
        "outputId": "0814baa7-562d-4c84-dfe1-fd5d2d7f1a51"
      },
      "source": [
        "#multi level\r\n",
        "class A():\r\n",
        "  def ameth(self):\r\n",
        "    print('In class A')\r\n",
        "class B(A):\r\n",
        "  def bmeth(self):\r\n",
        "    print('In class B')\r\n",
        "class C(B):\r\n",
        "  def cmeth(self):\r\n",
        "    print('In class C')\r\n",
        "ob=C()\r\n",
        "ob.ameth()\r\n",
        "ob.bmeth()\r\n",
        "ob.cmeth()"
      ],
      "execution_count": null,
      "outputs": [
        {
          "output_type": "stream",
          "text": [
            "In class A\n",
            "In class B\n",
            "In class C\n"
          ],
          "name": "stdout"
        }
      ]
    },
    {
      "cell_type": "code",
      "metadata": {
        "colab": {
          "base_uri": "https://localhost:8080/"
        },
        "id": "W8Zb4zSwg2wq",
        "outputId": "00734f69-cafa-4aa2-b62a-d69b35467b9e"
      },
      "source": [
        "#heirarchial\r\n",
        "class H1():\r\n",
        "  def h1meth(self):\r\n",
        "    print('parent class')\r\n",
        "class C1(H1):\r\n",
        "  def c1meth(self):\r\n",
        "    print('child1')\r\n",
        "class C2(H1):\r\n",
        "  def c2meth(self):\r\n",
        "    print('child2')\r\n",
        "obj1=C1()\r\n",
        "obj1.h1meth()\r\n",
        "obj2=C2()\r\n",
        "obj2.h1meth()"
      ],
      "execution_count": null,
      "outputs": [
        {
          "output_type": "stream",
          "text": [
            "parent class\n",
            "parent class\n"
          ],
          "name": "stdout"
        }
      ]
    },
    {
      "cell_type": "code",
      "metadata": {
        "colab": {
          "base_uri": "https://localhost:8080/"
        },
        "id": "UNjYStgPhj-2",
        "outputId": "7e7eafa5-4332-4b1c-f89d-90a1ddb75464"
      },
      "source": [
        "#multiple\r\n",
        "class M1():\r\n",
        "  def m1fun(self):\r\n",
        "    print('in parent 1')\r\n",
        "class M2():\r\n",
        "  def m1fun(self):\r\n",
        "    print('in parent 2')\r\n",
        "class Child(M1,M2):\r\n",
        "  def cfun(self):\r\n",
        "    print('multiple inheritance')\r\n",
        "a=Child()\r\n",
        "a.m1fun()\r\n",
        "#a.m2fun()\r\n",
        "a.cfun()"
      ],
      "execution_count": null,
      "outputs": [
        {
          "output_type": "stream",
          "text": [
            "in parent 1\n",
            "multiple inheritance\n"
          ],
          "name": "stdout"
        }
      ]
    },
    {
      "cell_type": "code",
      "metadata": {
        "id": "lJ8HsQaKiS7E"
      },
      "source": [
        ""
      ],
      "execution_count": null,
      "outputs": []
    },
    {
      "cell_type": "markdown",
      "metadata": {
        "id": "2m0wuJmqGbGM"
      },
      "source": [
        "#Random"
      ]
    },
    {
      "cell_type": "code",
      "metadata": {
        "colab": {
          "base_uri": "https://localhost:8080/"
        },
        "id": "QiGGSc_VGmZi",
        "outputId": "6b52be67-4a7b-4b19-cc77-f1888fa13006"
      },
      "source": [
        "i=0\r\n",
        "while i<5:\r\n",
        "  print(i,end='')\r\n",
        "  i+=1\r\n",
        "  if i==3:\r\n",
        "    break\r\n",
        "  else:\r\n",
        "    print(0)"
      ],
      "execution_count": null,
      "outputs": [
        {
          "output_type": "stream",
          "text": [
            "00\n",
            "10\n",
            "2"
          ],
          "name": "stdout"
        }
      ]
    },
    {
      "cell_type": "code",
      "metadata": {
        "colab": {
          "base_uri": "https://localhost:8080/"
        },
        "id": "J4LLheeaHGw7",
        "outputId": "fca23d2b-2af9-4a72-dab9-a6029f32a5d8"
      },
      "source": [
        "list1=['physics','chemistry',1997,2000]\r\n",
        "print(\"list[1][1]:\",list1[1][1])\r\n",
        "print(\"list[1][-1]:\",list1[1][-1])"
      ],
      "execution_count": null,
      "outputs": [
        {
          "output_type": "stream",
          "text": [
            "list[1][1]: h\n",
            "list[1][-1]: y\n"
          ],
          "name": "stdout"
        }
      ]
    },
    {
      "cell_type": "code",
      "metadata": {
        "colab": {
          "base_uri": "https://localhost:8080/",
          "height": 212
        },
        "id": "VhZGWMzTHohj",
        "outputId": "dc48e95c-297d-4dda-e87e-c8590bff01ee"
      },
      "source": [
        "t1=(1)\r\n",
        "t2=(3,4)\r\n",
        "t1+=5\r\n",
        "print(t1)\r\n",
        "print(t1+t2)"
      ],
      "execution_count": null,
      "outputs": [
        {
          "output_type": "stream",
          "text": [
            "6\n"
          ],
          "name": "stdout"
        },
        {
          "output_type": "error",
          "ename": "TypeError",
          "evalue": "ignored",
          "traceback": [
            "\u001b[0;31m---------------------------------------------------------------------------\u001b[0m",
            "\u001b[0;31mTypeError\u001b[0m                                 Traceback (most recent call last)",
            "\u001b[0;32m<ipython-input-7-d491e4cdf4c3>\u001b[0m in \u001b[0;36m<module>\u001b[0;34m()\u001b[0m\n\u001b[1;32m      3\u001b[0m \u001b[0mt1\u001b[0m\u001b[0;34m+=\u001b[0m\u001b[0;36m5\u001b[0m\u001b[0;34m\u001b[0m\u001b[0;34m\u001b[0m\u001b[0m\n\u001b[1;32m      4\u001b[0m \u001b[0mprint\u001b[0m\u001b[0;34m(\u001b[0m\u001b[0mt1\u001b[0m\u001b[0;34m)\u001b[0m\u001b[0;34m\u001b[0m\u001b[0;34m\u001b[0m\u001b[0m\n\u001b[0;32m----> 5\u001b[0;31m \u001b[0mprint\u001b[0m\u001b[0;34m(\u001b[0m\u001b[0mt1\u001b[0m\u001b[0;34m+\u001b[0m\u001b[0mt2\u001b[0m\u001b[0;34m)\u001b[0m\u001b[0;34m\u001b[0m\u001b[0;34m\u001b[0m\u001b[0m\n\u001b[0m",
            "\u001b[0;31mTypeError\u001b[0m: unsupported operand type(s) for +: 'int' and 'tuple'"
          ]
        }
      ]
    },
    {
      "cell_type": "code",
      "metadata": {
        "colab": {
          "base_uri": "https://localhost:8080/"
        },
        "id": "Npis8sueIiOJ",
        "outputId": "ce4436c9-7f5f-40dc-ca18-e4cc2aae1ed8"
      },
      "source": [
        "data=[x for x in range(5)]\r\n",
        "temp=[x for x in range(7) if x in data and x%2==0]\r\n",
        "print(temp)"
      ],
      "execution_count": null,
      "outputs": [
        {
          "output_type": "stream",
          "text": [
            "[0, 2, 4]\n"
          ],
          "name": "stdout"
        }
      ]
    },
    {
      "cell_type": "code",
      "metadata": {
        "colab": {
          "base_uri": "https://localhost:8080/"
        },
        "id": "23L6IiDXIyOt",
        "outputId": "a1484f6a-baa9-4244-e52d-f084254d3a8b"
      },
      "source": [
        "temp=['good','for','good']\r\n",
        "arr=[i[0].upper() for i in temp]\r\n",
        "print(arr)"
      ],
      "execution_count": null,
      "outputs": [
        {
          "output_type": "stream",
          "text": [
            "['G', 'F', 'G']\n"
          ],
          "name": "stdout"
        }
      ]
    },
    {
      "cell_type": "code",
      "metadata": {
        "colab": {
          "base_uri": "https://localhost:8080/"
        },
        "id": "0wYCbCj4JCLb",
        "outputId": "d19ead69-db2b-41cb-b528-f8c351f7ff43"
      },
      "source": [
        "data=[x for x in (x for x in \"Focus academy\" if x.isdigit()) if (x in ([x for x in range(20)]))]\r\n",
        "print(data)"
      ],
      "execution_count": null,
      "outputs": [
        {
          "output_type": "stream",
          "text": [
            "[]\n"
          ],
          "name": "stdout"
        }
      ]
    },
    {
      "cell_type": "code",
      "metadata": {
        "colab": {
          "base_uri": "https://localhost:8080/"
        },
        "id": "FeMXW87hJUgQ",
        "outputId": "a1a21c77-ae4e-4189-dcf2-9819701e0e2d"
      },
      "source": [
        "t=(1,2)\r\n",
        "print(2*t)"
      ],
      "execution_count": null,
      "outputs": [
        {
          "output_type": "stream",
          "text": [
            "(1, 2, 1, 2)\n"
          ],
          "name": "stdout"
        }
      ]
    },
    {
      "cell_type": "code",
      "metadata": {
        "colab": {
          "base_uri": "https://localhost:8080/"
        },
        "id": "yXsJ6w6dJa_5",
        "outputId": "623836ff-8060-45d3-85c7-684aed419f19"
      },
      "source": [
        "print(not(5&5))"
      ],
      "execution_count": null,
      "outputs": [
        {
          "output_type": "stream",
          "text": [
            "False\n"
          ],
          "name": "stdout"
        }
      ]
    },
    {
      "cell_type": "code",
      "metadata": {
        "colab": {
          "base_uri": "https://localhost:8080/"
        },
        "id": "JAajIGWZJixS",
        "outputId": "bbf1cc46-7bd2-456d-973f-1f7a856a6409"
      },
      "source": [
        "if (7<0) and (0<-7):\r\n",
        "  print('Merin')\r\n",
        "elif (7>0) or False:\r\n",
        "  print('Love')\r\n",
        "else:\r\n",
        "  print('Tech')"
      ],
      "execution_count": null,
      "outputs": [
        {
          "output_type": "stream",
          "text": [
            "Love\n"
          ],
          "name": "stdout"
        }
      ]
    },
    {
      "cell_type": "code",
      "metadata": {
        "colab": {
          "base_uri": "https://localhost:8080/"
        },
        "id": "FyDKrnQUJ2wA",
        "outputId": "7803594b-4b49-4fc2-9c4c-489d0eb0d7b2"
      },
      "source": [
        "line=\"What will have so will\"\r\n",
        "L=line.split('a')\r\n",
        "for i in L:\r\n",
        "  print(i,end=' ')"
      ],
      "execution_count": null,
      "outputs": [
        {
          "output_type": "stream",
          "text": [
            "Wh t will h ve so will "
          ],
          "name": "stdout"
        }
      ]
    },
    {
      "cell_type": "code",
      "metadata": {
        "colab": {
          "base_uri": "https://localhost:8080/"
        },
        "id": "R_PnbAPsKFSs",
        "outputId": "b6656697-cd01-447e-a8c5-7556d095a449"
      },
      "source": [
        "t=tuple('green')\r\n",
        "a,b,c,d,e=t\r\n",
        "b=c='*'\r\n",
        "t=(a,b,c,d,e)\r\n",
        "print(t)"
      ],
      "execution_count": null,
      "outputs": [
        {
          "output_type": "stream",
          "text": [
            "('g', '*', '*', 'e', 'n')\n"
          ],
          "name": "stdout"
        }
      ]
    },
    {
      "cell_type": "code",
      "metadata": {
        "colab": {
          "base_uri": "https://localhost:8080/"
        },
        "id": "1ISLwIsSKoj6",
        "outputId": "89463a15-82b9-41c2-9799-ae0f752a7dc6"
      },
      "source": [
        "t=(2e-04,True,False,8,1.001,True)\r\n",
        "val=0\r\n",
        "for x in t:\r\n",
        "  val+=int(x)\r\n",
        "print(val)"
      ],
      "execution_count": null,
      "outputs": [
        {
          "output_type": "stream",
          "text": [
            "11\n"
          ],
          "name": "stdout"
        }
      ]
    },
    {
      "cell_type": "code",
      "metadata": {
        "id": "qrDhfa9AK32U"
      },
      "source": [
        ""
      ],
      "execution_count": null,
      "outputs": []
    }
  ]
}